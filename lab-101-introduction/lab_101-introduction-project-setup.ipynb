{
 "cells": [
  {
   "cell_type": "markdown",
   "id": "c0ea9642",
   "metadata": {},
   "source": [
    "# Machine Learning Foundation"
   ]
  },
  {
   "cell_type": "markdown",
   "id": "eee54237",
   "metadata": {},
   "source": [
    "## Objectives:\n",
    "\n",
    "\n",
    "1. Installation of Python & Anaconda Navigator.\n",
    "2. Installation of GitHub Desktop.\n",
    "3. Setting up a project on local Repository linked to a GitHub repository.\n",
    "4. Foundational skills."
   ]
  },
  {
   "cell_type": "markdown",
   "id": "1f6fff6f",
   "metadata": {},
   "source": [
    "# 1.\tInstallation of Python & Anaconda Navigator ❤"
   ]
  },
  {
   "cell_type": "markdown",
   "id": "70fb29fc",
   "metadata": {},
   "source": [
    "__[Installing Python](https://www.youtube.com/embed/ZWQwGR5ppnk)__  <a id='python_installation'></a>\n",
    "\n",
    " How to install Python using the [Anaconda distribution](https://www.anaconda.com/) of Python."
   ]
  },
  {
   "cell_type": "markdown",
   "id": "cd4a55c1",
   "metadata": {},
   "source": [
    "How to install [Visual Studio Code](https://code.visualstudio.com/) and use it to run Python scripts in an interactive window.\n",
    "\n",
    "There are some other [extensions](https://www.youtube.com/embed/1kKTYsQdaPw) it’s useful to have and install (if they aren’t already):\n",
    "\n",
    "- Jupyter 💛\n",
    "\n",
    "- Pylance\n",
    "\n",
    "- indent-rainbow"
   ]
  },
  {
   "cell_type": "code",
   "execution_count": 1,
   "id": "e91b401d",
   "metadata": {},
   "outputs": [],
   "source": [
    "#   comment me here"
   ]
  },
  {
   "cell_type": "code",
   "execution_count": null,
   "id": "f10ae850",
   "metadata": {},
   "outputs": [],
   "source": []
  },
  {
   "cell_type": "markdown",
   "id": "64d1c760",
   "metadata": {},
   "source": [
    "# 2. Installation of GitHub Desktop"
   ]
  },
  {
   "cell_type": "markdown",
   "id": "b1460459",
   "metadata": {},
   "source": [
    "- Povided is a [link](https://desktop.github.com) to download and install GitHub Desktop into your local workspace."
   ]
  },
  {
   "cell_type": "markdown",
   "id": "1f4151b5",
   "metadata": {},
   "source": [
    "# 3. Setting up a project on local Repository linked to a GitHub repository."
   ]
  },
  {
   "cell_type": "markdown",
   "id": "3c4f08da",
   "metadata": {},
   "source": [
    "__Steps:__\n",
    "- Create a GitHub account.\n",
    "- Create a new repository using your account.\n",
    "- Navigate to the main page to open new repository you created and click `Code`.\n",
    "- Search for `Open in GitHub Desktop` option that takes you to your GitHub Desktop app.\n",
    "- Choose the current working directory to the location where you want the cloned directory.\n",
    "\n",
    "__NB:__ All the changes made to your local workspace are now integrated with your remote repository through `commit` and `push` clicks to save changes remotely. "
   ]
  },
  {
   "cell_type": "markdown",
   "id": "39a44d88",
   "metadata": {},
   "source": [
    "# 4. Foundational skills   💚\n",
    "As a Data Mungy, who wants to layout a strong foundation in basic concepts that feeds up the network for a better understanding and be able to kick off in a Data Scientist journey when solving business problems.\n",
    "\n",
    "The following below gives the basis of python programming that suits well to business analysis roles."
   ]
  },
  {
   "cell_type": "markdown",
   "id": "bc2629e0",
   "metadata": {},
   "source": [
    "## 4.1 Python Basics  📚📕📗📘"
   ]
  },
  {
   "cell_type": "markdown",
   "id": "50f58952",
   "metadata": {},
   "source": [
    "__Identifiers__  📌"
   ]
  },
  {
   "cell_type": "markdown",
   "id": "c1783b26",
   "metadata": {},
   "source": [
    "A name given to an entity such as function, variable, class etc."
   ]
  },
  {
   "cell_type": "code",
   "execution_count": 2,
   "id": "86c77ced",
   "metadata": {},
   "outputs": [
    {
     "ename": "SyntaxError",
     "evalue": "invalid decimal literal (946098092.py, line 1)",
     "output_type": "error",
     "traceback": [
      "\u001b[1;36m  Cell \u001b[1;32mIn[2], line 1\u001b[1;36m\u001b[0m\n\u001b[1;33m    1val = 10 # identifier can't start with a digit.\u001b[0m\n\u001b[1;37m    ^\u001b[0m\n\u001b[1;31mSyntaxError\u001b[0m\u001b[1;31m:\u001b[0m invalid decimal literal\n"
     ]
    }
   ],
   "source": [
    "1val = 10 # identifier can't start with a digit."
   ]
  },
  {
   "cell_type": "code",
   "execution_count": null,
   "id": "51f6a1f1",
   "metadata": {},
   "outputs": [
    {
     "ename": "SyntaxError",
     "evalue": "invalid syntax (<ipython-input-2-a3cd8dc6c02d>, line 1)",
     "output_type": "error",
     "traceback": [
      "\u001b[1;36m  Cell \u001b[1;32mIn[2], line 1\u001b[1;36m\u001b[0m\n\u001b[1;33m    val$ = 10 # identifier can't use special symbol.\u001b[0m\n\u001b[1;37m       ^\u001b[0m\n\u001b[1;31mSyntaxError\u001b[0m\u001b[1;31m:\u001b[0m invalid syntax\n"
     ]
    }
   ],
   "source": [
    "val$ = 10 # identifier can't use special symbol."
   ]
  },
  {
   "cell_type": "markdown",
   "id": "dd3c9e2a",
   "metadata": {},
   "source": [
    "__Correct Identifiers__"
   ]
  },
  {
   "cell_type": "code",
   "execution_count": null,
   "id": "ffcf8f5e",
   "metadata": {},
   "outputs": [
    {
     "name": "stdout",
     "output_type": "stream",
     "text": [
      "1\n",
      "2\n"
     ]
    }
   ],
   "source": [
    "val1 = 1\n",
    "val_2 = 2\n",
    "print(val1)\n",
    "print(val_2)"
   ]
  },
  {
   "cell_type": "markdown",
   "id": "10324bca",
   "metadata": {},
   "source": [
    "__Comments in Python__\n",
    "\n",
    "It is used to explain code for readability."
   ]
  },
  {
   "cell_type": "code",
   "execution_count": null,
   "id": "29331e9a",
   "metadata": {},
   "outputs": [
    {
     "name": "stdout",
     "output_type": "stream",
     "text": [
      "A single line comment\n"
     ]
    }
   ],
   "source": [
    "# Single line comment\n",
    "print('A single line comment')"
   ]
  },
  {
   "cell_type": "code",
   "execution_count": null,
   "id": "6d9f0a34",
   "metadata": {},
   "outputs": [
    {
     "name": "stdout",
     "output_type": "stream",
     "text": [
      "A Multiple line comment\n"
     ]
    }
   ],
   "source": [
    "# Multiple\n",
    "# line \n",
    "# comment\n",
    "print('A Multiple line comment')"
   ]
  },
  {
   "cell_type": "code",
   "execution_count": null,
   "id": "6be8c0fe",
   "metadata": {},
   "outputs": [
    {
     "name": "stdout",
     "output_type": "stream",
     "text": [
      "A Multiple line comment using DocString in single quotes\n"
     ]
    }
   ],
   "source": [
    "'''\n",
    "Multiple\n",
    "line \n",
    "comment\n",
    "using\n",
    "DocString\n",
    "'''\n",
    "print('A Multiple line comment using DocString in single quotes')"
   ]
  },
  {
   "cell_type": "code",
   "execution_count": null,
   "id": "8781cb0b",
   "metadata": {},
   "outputs": [
    {
     "name": "stdout",
     "output_type": "stream",
     "text": [
      "A Multiple line comment using DocString in double quotes\n"
     ]
    }
   ],
   "source": [
    "\"\"\"\n",
    "Multiple\n",
    "line \n",
    "comment\n",
    "using\n",
    "DocString\n",
    "\"\"\"\n",
    "print('A Multiple line comment using DocString in double quotes')"
   ]
  },
  {
   "cell_type": "markdown",
   "id": "31042496",
   "metadata": {},
   "source": [
    "__Indentation__\n",
    "\n",
    "It is the space at the start of a code line."
   ]
  },
  {
   "cell_type": "code",
   "execution_count": null,
   "id": "9594bb69",
   "metadata": {},
   "outputs": [
    {
     "name": "stdout",
     "output_type": "stream",
     "text": [
      "25\n",
      "Correct indentation\n"
     ]
    }
   ],
   "source": [
    "x=5\n",
    "if x!=0:\n",
    "    print(x*x) # Correct indentation\n",
    "    print('Correct indentation')"
   ]
  },
  {
   "cell_type": "code",
   "execution_count": null,
   "id": "9bfbbf7f",
   "metadata": {},
   "outputs": [
    {
     "ename": "IndentationError",
     "evalue": "expected an indented block after 'if' statement on line 2 (<ipython-input-9-c3f67bd133a1>, line 3)",
     "output_type": "error",
     "traceback": [
      "\u001b[1;36m  Cell \u001b[1;32mIn[9], line 3\u001b[1;36m\u001b[0m\n\u001b[1;33m    print(x*x) # IndentationError: expected an indented block after 'if' statement on line 2\u001b[0m\n\u001b[1;37m    ^\u001b[0m\n\u001b[1;31mIndentationError\u001b[0m\u001b[1;31m:\u001b[0m expected an indented block after 'if' statement on line 2\n"
     ]
    }
   ],
   "source": [
    "x=5\n",
    "if x!=0:\n",
    "print(x*x) # IndentationError: expected an indented block after 'if' statement on line 2"
   ]
  },
  {
   "cell_type": "markdown",
   "id": "b171bf99",
   "metadata": {},
   "source": [
    "## 4.2 Syntax and [data types](https://jakevdp.github.io/PythonDataScienceHandbook/02.01-understanding-data-types.html)    🚩🌍"
   ]
  },
  {
   "cell_type": "markdown",
   "id": "93022584",
   "metadata": {},
   "source": [
    "**Objective:** \n",
    "- How to define variables, strings, integers, floats, boolean, lists, and dictionaries in Python. \n",
    "- Accessing and manipulation of a list and a dictionary."
   ]
  },
  {
   "cell_type": "markdown",
   "id": "631bcc17",
   "metadata": {},
   "source": [
    "### Define variables"
   ]
  },
  {
   "cell_type": "markdown",
   "id": "4077b96f",
   "metadata": {},
   "source": [
    "#### strings, integers, floats, boolean"
   ]
  },
  {
   "cell_type": "code",
   "execution_count": null,
   "id": "381b2ac3",
   "metadata": {},
   "outputs": [
    {
     "name": "stdout",
     "output_type": "stream",
     "text": [
      "<class 'str'>\n",
      "<class 'int'>\n",
      "<class 'float'>\n",
      "<class 'bool'>\n"
     ]
    }
   ],
   "source": [
    "# Define variables\n",
    "my_string = \"Hello Python.\" # string variable\n",
    "print(type(my_string)) # check the variable type\n",
    "\n",
    "my_integer = 30 # integer variable\n",
    "print(type(my_integer)) # check the variable type\n",
    "\n",
    "my_float = 5.9  # float variable\n",
    "print(type(my_float)) # check the variable type\n",
    "\n",
    "my_boolean = True # boolean variable\n",
    "print(type(my_boolean)) # check the variable type"
   ]
  },
  {
   "cell_type": "code",
   "execution_count": null,
   "id": "b948301a",
   "metadata": {},
   "outputs": [
    {
     "name": "stdout",
     "output_type": "stream",
     "text": [
      "1. My string is Hello World with data type <class 'str'>\n",
      "2. My integer is 45 with data type <class 'int'> \n",
      "3. My float is 2.99 with data type <class 'float'>\n"
     ]
    }
   ],
   "source": [
    "# Multiple assignments\n",
    "my_str, my_int, my_flt = 'Hello World', 45, 2.99\n",
    "print(f'1. My string is {my_str} with data type {type(my_str)}\\n\\\n",
    "2. My integer is {my_int} with data type {type(my_int)} \\n\\\n",
    "3. My float is {my_flt} with data type {type(my_flt)}')"
   ]
  },
  {
   "cell_type": "markdown",
   "id": "af2fb72d",
   "metadata": {},
   "source": [
    "#### list\n",
    "A collection of items."
   ]
  },
  {
   "cell_type": "code",
   "execution_count": null,
   "id": "6297ce88",
   "metadata": {},
   "outputs": [],
   "source": [
    "my_list = [1, 2, 3, 4, 5]"
   ]
  },
  {
   "cell_type": "markdown",
   "id": "255ee207",
   "metadata": {},
   "source": [
    "#### dictionary\n",
    "\n",
    "A collection of key-value pairs."
   ]
  },
  {
   "cell_type": "code",
   "execution_count": null,
   "id": "71cc2bff",
   "metadata": {},
   "outputs": [],
   "source": [
    "my_dict = {'name': 'John', 'age': 30, 'city': 'New York'}"
   ]
  },
  {
   "cell_type": "markdown",
   "id": "6409b634",
   "metadata": {},
   "source": [
    "__JSON format__\n",
    "\n",
    "___Deserialize a JSON string and data from a file___\n",
    "Use `json.loads()` when working with JSON strings, and `json.load()` when reading JSON data from files or streams.\n",
    "\n",
    "___Serialize a Python object to a JSON string and data in a file___\n",
    "Use `json.dumps()` when converting python object to JSON object, and `json.dump()` when writing to a JSON data in a file.\n",
    "\n",
    "__Important:__ 📌📌📌\n",
    "\n",
    "1. Some ML models are saved as JSON objects for persistence and deployment.\n",
    "2. For data exchange between different systems.\n",
    "3. Significant impact in performance, memory usage, and preprocessing time."
   ]
  },
  {
   "cell_type": "code",
   "execution_count": null,
   "id": "007507b4",
   "metadata": {},
   "outputs": [],
   "source": [
    "import json"
   ]
  },
  {
   "cell_type": "code",
   "execution_count": null,
   "id": "7153a2ed",
   "metadata": {},
   "outputs": [
    {
     "name": "stdout",
     "output_type": "stream",
     "text": [
      "{\n",
      "    \"name\": \"John Doe\",\n",
      "    \"age\": 25,\n",
      "    \"occupation\": \"Data Scientist\",\n",
      "    \"address\": {\n",
      "        \"street\": \"45A Long St\",\n",
      "        \"city\": \"Kempton Park\",\n",
      "        \"state\": \"Gauteng\",\n",
      "        \"zip\": 1619\n",
      "    },\n",
      "    \"interests\": [\n",
      "        \"hiking\",\n",
      "        \"reading\",\n",
      "        \"coding\"\n",
      "    ]\n",
      "}\n"
     ]
    }
   ],
   "source": [
    "data = {\n",
    "    'name': 'John Doe',\n",
    "    'age': 25,\n",
    "    'occupation': 'Data Scientist',\n",
    "    'address': {\n",
    "        'street': '45A Long St',\n",
    "        'city': 'Kempton Park',\n",
    "        'state': 'Gauteng',\n",
    "        'zip':1619\n",
    "    },\n",
    "    'interests': ['hiking', 'reading', 'coding']\n",
    "}\n",
    "\n",
    "# Generate JSON data\n",
    "json_data = json.dumps(data, indent=4)\n",
    "print(json_data)"
   ]
  },
  {
   "cell_type": "code",
   "execution_count": null,
   "id": "2de5e263",
   "metadata": {},
   "outputs": [
    {
     "data": {
      "text/plain": [
       "['hiking', 'reading', 'coding']"
      ]
     },
     "execution_count": 15,
     "metadata": {},
     "output_type": "execute_result"
    }
   ],
   "source": [
    "# Accessing values, 1st level key (interests)\n",
    "data['interests']"
   ]
  },
  {
   "cell_type": "code",
   "execution_count": null,
   "id": "3faa2ea0",
   "metadata": {
    "scrolled": true
   },
   "outputs": [
    {
     "name": "stdout",
     "output_type": "stream",
     "text": [
      "{'street': '45A Long St', 'city': 'Kempton Park', 'state': 'Gauteng', 'zip': 1620}\n"
     ]
    }
   ],
   "source": [
    "# Update nested values, 2nd level key (zip)\n",
    "data['address']['zip'] = 1620\n",
    "print(data['address'])"
   ]
  },
  {
   "cell_type": "code",
   "execution_count": null,
   "id": "6519eb2b",
   "metadata": {},
   "outputs": [
    {
     "data": {
      "text/plain": [
       "dict"
      ]
     },
     "execution_count": 19,
     "metadata": {},
     "output_type": "execute_result"
    }
   ],
   "source": [
    "# Convert JSON string to python object\n",
    "data_2 = json.loads(json_data)\n",
    "type(data_2)"
   ]
  },
  {
   "cell_type": "markdown",
   "id": "ff7ab6e1",
   "metadata": {},
   "source": [
    "__Using Context Manager:__  👇"
   ]
  },
  {
   "cell_type": "code",
   "execution_count": null,
   "id": "3cd1024d",
   "metadata": {},
   "outputs": [],
   "source": [
    "# Use gzip.open() to unzip it \n",
    "# Open compressed file, load into dictionary\n",
    "# with gzip.open('./data/poland-bankruptcy-data-2009.zip', \"r\") as f:\n",
    "#     data_zip = json.load(f)\n",
    "    \n",
    "# data_zip.keys()"
   ]
  },
  {
   "cell_type": "code",
   "execution_count": null,
   "id": "d3956f9c",
   "metadata": {
    "scrolled": true
   },
   "outputs": [
    {
     "name": "stdout",
     "output_type": "stream",
     "text": [
      "<class 'dict'>\n"
     ]
    },
    {
     "data": {
      "text/html": [
       "<div>\n",
       "<style scoped>\n",
       "    .dataframe tbody tr th:only-of-type {\n",
       "        vertical-align: middle;\n",
       "    }\n",
       "\n",
       "    .dataframe tbody tr th {\n",
       "        vertical-align: top;\n",
       "    }\n",
       "\n",
       "    .dataframe thead th {\n",
       "        text-align: right;\n",
       "    }\n",
       "</style>\n",
       "<table border=\"1\" class=\"dataframe\">\n",
       "  <thead>\n",
       "    <tr style=\"text-align: right;\">\n",
       "      <th></th>\n",
       "      <th>feat_1</th>\n",
       "      <th>feat_2</th>\n",
       "      <th>feat_3</th>\n",
       "      <th>feat_4</th>\n",
       "      <th>feat_5</th>\n",
       "      <th>feat_6</th>\n",
       "      <th>feat_7</th>\n",
       "      <th>feat_8</th>\n",
       "      <th>feat_9</th>\n",
       "      <th>feat_10</th>\n",
       "      <th>...</th>\n",
       "      <th>feat_56</th>\n",
       "      <th>feat_57</th>\n",
       "      <th>feat_58</th>\n",
       "      <th>feat_59</th>\n",
       "      <th>feat_60</th>\n",
       "      <th>feat_61</th>\n",
       "      <th>feat_62</th>\n",
       "      <th>feat_63</th>\n",
       "      <th>feat_64</th>\n",
       "      <th>bankrupt</th>\n",
       "    </tr>\n",
       "    <tr>\n",
       "      <th>company_id</th>\n",
       "      <th></th>\n",
       "      <th></th>\n",
       "      <th></th>\n",
       "      <th></th>\n",
       "      <th></th>\n",
       "      <th></th>\n",
       "      <th></th>\n",
       "      <th></th>\n",
       "      <th></th>\n",
       "      <th></th>\n",
       "      <th></th>\n",
       "      <th></th>\n",
       "      <th></th>\n",
       "      <th></th>\n",
       "      <th></th>\n",
       "      <th></th>\n",
       "      <th></th>\n",
       "      <th></th>\n",
       "      <th></th>\n",
       "      <th></th>\n",
       "      <th></th>\n",
       "    </tr>\n",
       "  </thead>\n",
       "  <tbody>\n",
       "    <tr>\n",
       "      <th>1</th>\n",
       "      <td>0.174190</td>\n",
       "      <td>0.41299</td>\n",
       "      <td>0.14371</td>\n",
       "      <td>1.3480</td>\n",
       "      <td>-28.9820</td>\n",
       "      <td>0.60383</td>\n",
       "      <td>0.219460</td>\n",
       "      <td>1.12250</td>\n",
       "      <td>1.1961</td>\n",
       "      <td>0.46359</td>\n",
       "      <td>...</td>\n",
       "      <td>0.163960</td>\n",
       "      <td>0.375740</td>\n",
       "      <td>0.83604</td>\n",
       "      <td>0.000007</td>\n",
       "      <td>9.7145</td>\n",
       "      <td>6.2813</td>\n",
       "      <td>84.291</td>\n",
       "      <td>4.3303</td>\n",
       "      <td>4.0341</td>\n",
       "      <td>False</td>\n",
       "    </tr>\n",
       "    <tr>\n",
       "      <th>2</th>\n",
       "      <td>0.146240</td>\n",
       "      <td>0.46038</td>\n",
       "      <td>0.28230</td>\n",
       "      <td>1.6294</td>\n",
       "      <td>2.5952</td>\n",
       "      <td>0.00000</td>\n",
       "      <td>0.171850</td>\n",
       "      <td>1.17210</td>\n",
       "      <td>1.6018</td>\n",
       "      <td>0.53962</td>\n",
       "      <td>...</td>\n",
       "      <td>0.027516</td>\n",
       "      <td>0.271000</td>\n",
       "      <td>0.90108</td>\n",
       "      <td>0.000000</td>\n",
       "      <td>5.9882</td>\n",
       "      <td>4.1103</td>\n",
       "      <td>102.190</td>\n",
       "      <td>3.5716</td>\n",
       "      <td>5.9500</td>\n",
       "      <td>False</td>\n",
       "    </tr>\n",
       "    <tr>\n",
       "      <th>3</th>\n",
       "      <td>0.000595</td>\n",
       "      <td>0.22612</td>\n",
       "      <td>0.48839</td>\n",
       "      <td>3.1599</td>\n",
       "      <td>84.8740</td>\n",
       "      <td>0.19114</td>\n",
       "      <td>0.004572</td>\n",
       "      <td>2.98810</td>\n",
       "      <td>1.0077</td>\n",
       "      <td>0.67566</td>\n",
       "      <td>...</td>\n",
       "      <td>0.007639</td>\n",
       "      <td>0.000881</td>\n",
       "      <td>0.99236</td>\n",
       "      <td>0.000000</td>\n",
       "      <td>6.7742</td>\n",
       "      <td>3.7922</td>\n",
       "      <td>64.846</td>\n",
       "      <td>5.6287</td>\n",
       "      <td>4.4581</td>\n",
       "      <td>False</td>\n",
       "    </tr>\n",
       "    <tr>\n",
       "      <th>5</th>\n",
       "      <td>0.188290</td>\n",
       "      <td>0.41504</td>\n",
       "      <td>0.34231</td>\n",
       "      <td>1.9279</td>\n",
       "      <td>-58.2740</td>\n",
       "      <td>0.00000</td>\n",
       "      <td>0.233580</td>\n",
       "      <td>1.40940</td>\n",
       "      <td>1.3393</td>\n",
       "      <td>0.58496</td>\n",
       "      <td>...</td>\n",
       "      <td>0.176480</td>\n",
       "      <td>0.321880</td>\n",
       "      <td>0.82635</td>\n",
       "      <td>0.073039</td>\n",
       "      <td>2.5912</td>\n",
       "      <td>7.0756</td>\n",
       "      <td>100.540</td>\n",
       "      <td>3.6303</td>\n",
       "      <td>4.6375</td>\n",
       "      <td>False</td>\n",
       "    </tr>\n",
       "    <tr>\n",
       "      <th>6</th>\n",
       "      <td>0.182060</td>\n",
       "      <td>0.55615</td>\n",
       "      <td>0.32191</td>\n",
       "      <td>1.6045</td>\n",
       "      <td>16.3140</td>\n",
       "      <td>0.00000</td>\n",
       "      <td>0.182060</td>\n",
       "      <td>0.79808</td>\n",
       "      <td>1.8126</td>\n",
       "      <td>0.44385</td>\n",
       "      <td>...</td>\n",
       "      <td>0.555770</td>\n",
       "      <td>0.410190</td>\n",
       "      <td>0.46957</td>\n",
       "      <td>0.029421</td>\n",
       "      <td>8.4553</td>\n",
       "      <td>3.3488</td>\n",
       "      <td>107.240</td>\n",
       "      <td>3.4036</td>\n",
       "      <td>12.4540</td>\n",
       "      <td>False</td>\n",
       "    </tr>\n",
       "  </tbody>\n",
       "</table>\n",
       "<p>5 rows × 65 columns</p>\n",
       "</div>"
      ],
      "text/plain": [
       "              feat_1   feat_2   feat_3  feat_4   feat_5   feat_6    feat_7  \\\n",
       "company_id                                                                   \n",
       "1           0.174190  0.41299  0.14371  1.3480 -28.9820  0.60383  0.219460   \n",
       "2           0.146240  0.46038  0.28230  1.6294   2.5952  0.00000  0.171850   \n",
       "3           0.000595  0.22612  0.48839  3.1599  84.8740  0.19114  0.004572   \n",
       "5           0.188290  0.41504  0.34231  1.9279 -58.2740  0.00000  0.233580   \n",
       "6           0.182060  0.55615  0.32191  1.6045  16.3140  0.00000  0.182060   \n",
       "\n",
       "             feat_8  feat_9  feat_10  ...   feat_56   feat_57  feat_58  \\\n",
       "company_id                            ...                                \n",
       "1           1.12250  1.1961  0.46359  ...  0.163960  0.375740  0.83604   \n",
       "2           1.17210  1.6018  0.53962  ...  0.027516  0.271000  0.90108   \n",
       "3           2.98810  1.0077  0.67566  ...  0.007639  0.000881  0.99236   \n",
       "5           1.40940  1.3393  0.58496  ...  0.176480  0.321880  0.82635   \n",
       "6           0.79808  1.8126  0.44385  ...  0.555770  0.410190  0.46957   \n",
       "\n",
       "             feat_59  feat_60  feat_61  feat_62  feat_63  feat_64  bankrupt  \n",
       "company_id                                                                   \n",
       "1           0.000007   9.7145   6.2813   84.291   4.3303   4.0341     False  \n",
       "2           0.000000   5.9882   4.1103  102.190   3.5716   5.9500     False  \n",
       "3           0.000000   6.7742   3.7922   64.846   5.6287   4.4581     False  \n",
       "5           0.073039   2.5912   7.0756  100.540   3.6303   4.6375     False  \n",
       "6           0.029421   8.4553   3.3488  107.240   3.4036  12.4540     False  \n",
       "\n",
       "[5 rows x 65 columns]"
      ]
     },
     "execution_count": 73,
     "metadata": {},
     "output_type": "execute_result"
    }
   ],
   "source": [
    "# load a json data from a file\n",
    "with open('./data/poland-bankruptcy-data-2009.json', 'rt') as file:\n",
    "    data = json.load(file)\n",
    "    df = pd.DataFrame().from_dict(data[\"data\"]).set_index('company_id')\n",
    "print(type(data))\n",
    "df.head()"
   ]
  },
  {
   "cell_type": "code",
   "execution_count": null,
   "id": "2e2694b1",
   "metadata": {},
   "outputs": [
    {
     "data": {
      "text/plain": [
       "dict_keys(['schema', 'data', 'metadata'])"
      ]
     },
     "execution_count": 49,
     "metadata": {},
     "output_type": "execute_result"
    }
   ],
   "source": [
    "# schema\n",
    "data.keys()"
   ]
  },
  {
   "cell_type": "code",
   "execution_count": null,
   "id": "5b724013",
   "metadata": {},
   "outputs": [
    {
     "data": {
      "text/plain": [
       "{'title': 'Ensemble Boosted Trees with Synthetic Features Generation in Application to Bankruptcy Prediction',\n",
       " 'authors': 'Zieba, M., Tomczak, S. K., & Tomczak, J. M.',\n",
       " 'journal': 'Expert Systems with Applications',\n",
       " 'publicationYear': 2016,\n",
       " 'dataYear': 2009,\n",
       " 'articleLink': 'doi:10.1016/j.eswa.2016.04.001',\n",
       " 'datasetLink': 'https://archive.ics.uci.edu/ml/datasets/Polish+companies+bankruptcy+data'}"
      ]
     },
     "execution_count": 50,
     "metadata": {},
     "output_type": "execute_result"
    }
   ],
   "source": [
    "# JSON file metadata\n",
    "data['metadata']"
   ]
  },
  {
   "cell_type": "code",
   "execution_count": null,
   "id": "cd131b36",
   "metadata": {},
   "outputs": [
    {
     "data": {
      "text/plain": [
       "{'company_id': 1,\n",
       " 'feat_1': 0.17419,\n",
       " 'feat_2': 0.41299,\n",
       " 'feat_3': 0.14371,\n",
       " 'feat_4': 1.348,\n",
       " 'feat_5': -28.982,\n",
       " 'feat_6': 0.60383,\n",
       " 'feat_7': 0.21946,\n",
       " 'feat_8': 1.1225,\n",
       " 'feat_9': 1.1961,\n",
       " 'feat_10': 0.46359,\n",
       " 'feat_11': 0.21946,\n",
       " 'feat_12': 0.53139,\n",
       " 'feat_13': 0.14233,\n",
       " 'feat_14': 0.21946,\n",
       " 'feat_15': 592.24,\n",
       " 'feat_16': 0.6163,\n",
       " 'feat_17': 2.4213,\n",
       " 'feat_18': 0.21946,\n",
       " 'feat_19': 0.12272,\n",
       " 'feat_20': 37.573,\n",
       " 'feat_21': 0.9969,\n",
       " 'feat_22': 0.2951,\n",
       " 'feat_23': 0.097402,\n",
       " 'feat_24': 0.75641,\n",
       " 'feat_25': 0.46359,\n",
       " 'feat_26': 0.50669,\n",
       " 'feat_27': 1.9737,\n",
       " 'feat_28': 0.32417,\n",
       " 'feat_29': 5.9473,\n",
       " 'feat_30': 0.22493,\n",
       " 'feat_31': 0.12272,\n",
       " 'feat_32': 100.82,\n",
       " 'feat_33': 3.6203,\n",
       " 'feat_34': 0.71453,\n",
       " 'feat_35': 0.2951,\n",
       " 'feat_36': 1.8079,\n",
       " 'feat_37': 123140.0,\n",
       " 'feat_38': 0.46359,\n",
       " 'feat_39': 0.16501,\n",
       " 'feat_40': 0.21282,\n",
       " 'feat_41': 0.041124,\n",
       " 'feat_42': 0.16501,\n",
       " 'feat_43': 95.682,\n",
       " 'feat_44': 58.109,\n",
       " 'feat_45': 0.94621,\n",
       " 'feat_46': 0.90221,\n",
       " 'feat_47': 44.941,\n",
       " 'feat_48': 0.26003,\n",
       " 'feat_49': 0.1454,\n",
       " 'feat_50': 1.348,\n",
       " 'feat_51': 0.41299,\n",
       " 'feat_52': 0.27622,\n",
       " 'feat_53': 1.0457,\n",
       " 'feat_54': 1.0458,\n",
       " 'feat_55': 127280.0,\n",
       " 'feat_56': 0.16396,\n",
       " 'feat_57': 0.37574,\n",
       " 'feat_58': 0.83604,\n",
       " 'feat_59': 6.5269e-06,\n",
       " 'feat_60': 9.7145,\n",
       " 'feat_61': 6.2813,\n",
       " 'feat_62': 84.291,\n",
       " 'feat_63': 4.3303,\n",
       " 'feat_64': 4.0341,\n",
       " 'bankrupt': False}"
      ]
     },
     "execution_count": 46,
     "metadata": {},
     "output_type": "execute_result"
    }
   ],
   "source": [
    "# JSON file data\n",
    "row_one = data['data'][0]"
   ]
  },
  {
   "cell_type": "code",
   "execution_count": null,
   "id": "83bba58a",
   "metadata": {},
   "outputs": [],
   "source": []
  },
  {
   "cell_type": "code",
   "execution_count": null,
   "id": "189d8f7e",
   "metadata": {},
   "outputs": [],
   "source": []
  },
  {
   "cell_type": "markdown",
   "id": "ebaec633",
   "metadata": {},
   "source": [
    "### Accessing and manipulating variables"
   ]
  },
  {
   "cell_type": "code",
   "execution_count": null,
   "id": "d3ce4b5f",
   "metadata": {},
   "outputs": [
    {
     "name": "stdout",
     "output_type": "stream",
     "text": [
      "Integer: 30\n",
      "Float: 5.9\n",
      "String: Hello Python.\n",
      "List: [1, 2, 3, 4, 5]\n",
      "Dictionary: {'name': 'John', 'age': 30, 'city': 'New York'}\n"
     ]
    }
   ],
   "source": [
    "# Print variables\n",
    "print(\"Integer:\", my_integer)\n",
    "print(\"Float:\", my_float)\n",
    "print(\"String:\", my_string)\n",
    "print(\"List:\", my_list)\n",
    "print(\"Dictionary:\", my_dict)"
   ]
  },
  {
   "cell_type": "markdown",
   "id": "adc5be58",
   "metadata": {},
   "source": [
    "#### Add two integers"
   ]
  },
  {
   "cell_type": "code",
   "execution_count": null,
   "id": "459f1a88",
   "metadata": {},
   "outputs": [
    {
     "name": "stdout",
     "output_type": "stream",
     "text": [
      "Result of addition: 40\n"
     ]
    }
   ],
   "source": [
    "result = my_integer + 10\n",
    "print(\"Result of addition:\", result)"
   ]
  },
  {
   "cell_type": "markdown",
   "id": "536d9bb4",
   "metadata": {},
   "source": [
    "#### Concatenate strings"
   ]
  },
  {
   "cell_type": "code",
   "execution_count": null,
   "id": "d4f82a56",
   "metadata": {},
   "outputs": [
    {
     "name": "stdout",
     "output_type": "stream",
     "text": [
      "Greeting:\n",
      "Hello Python. How are you?\n"
     ]
    }
   ],
   "source": [
    "greeting = my_string + \" How are you?\"\n",
    "print(f\"Greeting:\\n{greeting}\")"
   ]
  },
  {
   "cell_type": "markdown",
   "id": "3d2145ac",
   "metadata": {},
   "source": [
    "#### Access list elements by index"
   ]
  },
  {
   "cell_type": "code",
   "execution_count": null,
   "id": "0955bbd3",
   "metadata": {},
   "outputs": [
    {
     "name": "stdout",
     "output_type": "stream",
     "text": [
      "First element of the list: 1\n"
     ]
    }
   ],
   "source": [
    "print(\"First element of the list:\", my_list[0])"
   ]
  },
  {
   "cell_type": "markdown",
   "id": "7d2f280f",
   "metadata": {},
   "source": [
    "#### Modify list elements"
   ]
  },
  {
   "cell_type": "code",
   "execution_count": null,
   "id": "cc3167d1",
   "metadata": {},
   "outputs": [
    {
     "name": "stdout",
     "output_type": "stream",
     "text": [
      "Modified list: [1, 20, 3, 4, 5]\n"
     ]
    }
   ],
   "source": [
    "my_list[1] = 20\n",
    "print(\"Modified list:\", my_list)"
   ]
  },
  {
   "cell_type": "markdown",
   "id": "3202014e",
   "metadata": {},
   "source": [
    "#### Access dictionary values by key"
   ]
  },
  {
   "cell_type": "code",
   "execution_count": null,
   "id": "dcd8a7a9",
   "metadata": {},
   "outputs": [
    {
     "name": "stdout",
     "output_type": "stream",
     "text": [
      "Name: John\n",
      "Age: 30\n"
     ]
    }
   ],
   "source": [
    "print(\"Name:\", my_dict['name'])\n",
    "print(\"Age:\", my_dict['age'])"
   ]
  },
  {
   "cell_type": "code",
   "execution_count": null,
   "id": "e87dced4",
   "metadata": {},
   "outputs": [
    {
     "data": {
      "text/plain": [
       "dict_keys(['name', 'age', 'city'])"
      ]
     },
     "execution_count": 20,
     "metadata": {},
     "output_type": "execute_result"
    }
   ],
   "source": [
    "# return the keys of a dictionary\n",
    "my_dict.keys()"
   ]
  },
  {
   "cell_type": "code",
   "execution_count": null,
   "id": "57e3acc8",
   "metadata": {},
   "outputs": [
    {
     "data": {
      "text/plain": [
       "dict_values(['John', 30, 'New York'])"
      ]
     },
     "execution_count": 21,
     "metadata": {},
     "output_type": "execute_result"
    }
   ],
   "source": [
    "# return the values of a dictionary\n",
    "my_dict.values()"
   ]
  },
  {
   "cell_type": "markdown",
   "id": "7619e162",
   "metadata": {},
   "source": [
    "#### Modify dictionary values"
   ]
  },
  {
   "cell_type": "code",
   "execution_count": null,
   "id": "fe2eedcb",
   "metadata": {},
   "outputs": [
    {
     "name": "stdout",
     "output_type": "stream",
     "text": [
      "Modified dictionary: {'name': 'John', 'age': 31, 'city': 'New York'}\n"
     ]
    }
   ],
   "source": [
    "my_dict['age'] = 31\n",
    "print(\"Modified dictionary:\", my_dict)"
   ]
  },
  {
   "cell_type": "markdown",
   "id": "71955f46",
   "metadata": {},
   "source": [
    "__Practice Questions:__"
   ]
  },
  {
   "cell_type": "markdown",
   "id": "fbc10763",
   "metadata": {},
   "source": [
    "1. Given a list of numbers, find the sum and average.\n",
    "2. Create variables for storing a person's name, age, and average test score.\n",
    "3. Create a list of fruits and access elements using indexing.\n",
    "4. Create a dictionary to store information about a person (name, age, address)."
   ]
  },
  {
   "cell_type": "markdown",
   "id": "106c2145",
   "metadata": {},
   "source": [
    "## 4.3 Control Structures  <a id='control_structures'></a>   🔋\n",
    "\n",
    "**Objective:** how to use if-else statements, loops, and functions to control the flow of code execution."
   ]
  },
  {
   "cell_type": "markdown",
   "id": "d08c4488",
   "metadata": {},
   "source": [
    "#### If-Else Statements:  <a id='if_else'></a>\n",
    "If-else statements are used to make decisions in your code based on conditions.\n",
    "\n",
    "In this example, the code checks whether the variable `num` is even or odd and prints the result accordingly."
   ]
  },
  {
   "cell_type": "code",
   "execution_count": null,
   "id": "1e8a157c",
   "metadata": {},
   "outputs": [
    {
     "name": "stdout",
     "output_type": "stream",
     "text": [
      "10 is even.\n"
     ]
    }
   ],
   "source": [
    "# Example: Checking if a number is even or odd\n",
    "num = 10\n",
    "\n",
    "if num % 2 == 0:\n",
    "    print(f\"{num} is even.\")\n",
    "else:\n",
    "    print(f\"{num} is odd.\")"
   ]
  },
  {
   "cell_type": "markdown",
   "id": "4305bbdb",
   "metadata": {},
   "source": [
    "#### Loops (For and While):  <a id='loops'></a>\n",
    "Loops are used for repetitive tasks, allowing you to execute a block of code multiple times.\n",
    "\n",
    "This for loop iterates over a range of numbers (1 to 5) and prints them."
   ]
  },
  {
   "cell_type": "code",
   "execution_count": null,
   "id": "f3898922",
   "metadata": {},
   "outputs": [
    {
     "name": "stdout",
     "output_type": "stream",
     "text": [
      "1\n",
      "2\n",
      "3\n",
      "4\n",
      "5\n"
     ]
    }
   ],
   "source": [
    "# Example: Printing numbers from 1 to 5 using a for loop\n",
    "for i in range(1, 6):\n",
    "    print(i)"
   ]
  },
  {
   "cell_type": "markdown",
   "id": "d6a8cf24",
   "metadata": {},
   "source": [
    "This while loop counts down from 5 to 1, printing each value."
   ]
  },
  {
   "cell_type": "code",
   "execution_count": null,
   "id": "c024329a",
   "metadata": {},
   "outputs": [
    {
     "name": "stdout",
     "output_type": "stream",
     "text": [
      "5\n",
      "4\n",
      "3\n",
      "2\n",
      "1\n"
     ]
    }
   ],
   "source": [
    "# Example: Countdown using a while loop\n",
    "countdown = 5\n",
    "while countdown > 0:\n",
    "    print(countdown)\n",
    "    countdown -= 1"
   ]
  },
  {
   "cell_type": "markdown",
   "id": "0d394300",
   "metadata": {},
   "source": [
    "#### Functions  <a id='functions'></a>\n",
    "Functions allow you to define reusable blocks of code.\n",
    "\n",
    "In this example, a function `greet` is defined to print a greeting message, and it's called with the argument \"Alice\" to greet that specific person."
   ]
  },
  {
   "cell_type": "code",
   "execution_count": null,
   "id": "e5a31bd8",
   "metadata": {},
   "outputs": [
    {
     "name": "stdout",
     "output_type": "stream",
     "text": [
      "Hello, Alice!\n"
     ]
    }
   ],
   "source": [
    "# Example: Define and use a simple function\n",
    "def greet(name):\n",
    "    print(f\"Hello, {name}!\")\n",
    "\n",
    "# Calling the function\n",
    "greet(\"Alice\")"
   ]
  },
  {
   "cell_type": "markdown",
   "id": "b711d68b",
   "metadata": {},
   "source": [
    "These control structures are fundamental building blocks in Python and are used to control the flow of your code, make decisions, and execute repetitive tasks."
   ]
  },
  {
   "cell_type": "markdown",
   "id": "f8ab55c7",
   "metadata": {},
   "source": [
    "__Practice Questions:__"
   ]
  },
  {
   "cell_type": "markdown",
   "id": "49d38287",
   "metadata": {},
   "source": [
    "1. Given a list of names, print all names starting with the letter 'A')\n",
    "2. Write a function to check if a number is even or odd and return \"Even\" or \"Odd\" accordingly\"\n",
    "3. Calculate the area of a triangle given its base and height using a function.\n",
    "4. Create a function that takes a list of strings and returns the list sorted alphabetically\""
   ]
  },
  {
   "cell_type": "markdown",
   "id": "fc812b4e",
   "metadata": {},
   "source": [
    "## 4.4 Object-oriented programming  <a id='oop'></a>"
   ]
  },
  {
   "cell_type": "markdown",
   "id": "3508c4b3",
   "metadata": {},
   "source": [
    "**Objective:** how to define classes, methods, and objects in Python."
   ]
  },
  {
   "cell_type": "markdown",
   "id": "37c76a00",
   "metadata": {},
   "source": [
    "#### Class\n",
    "\n",
    "A class is a blueprint for creating objects in Python. It defines the attributes (data members) and methods (functions) that the objects of the class will have. Here's an example of defining a simple `Person` class:"
   ]
  },
  {
   "cell_type": "code",
   "execution_count": null,
   "id": "afa9e18e",
   "metadata": {},
   "outputs": [],
   "source": [
    "class Person:\n",
    "    \n",
    "    # create a constructor\n",
    "    def __init__(self, name, age):\n",
    "        self.name = name\n",
    "        self.age = age\n",
    "    \n",
    "    # create a method\n",
    "    def greet(self):\n",
    "        print(f\"Hello, my name is {self.name} and I am {self.age} years old.\")"
   ]
  },
  {
   "cell_type": "markdown",
   "id": "14fdcc4e",
   "metadata": {},
   "source": [
    "In the above code, we define a class `Person` with an `__init__` method (constructor) to initialize its attributes `name` and `age`.\n",
    "The `greet` method allows a `Person` object to introduce themselves."
   ]
  },
  {
   "cell_type": "markdown",
   "id": "b16aa028",
   "metadata": {},
   "source": [
    "#### Create Objects (Instances):\n",
    "Objects are instances of a class. In the code below, `person1` is an instance of the `Person` class. You can create multiple objects from the same class, each with its own set of attribute values."
   ]
  },
  {
   "cell_type": "code",
   "execution_count": null,
   "id": "d1db594f",
   "metadata": {},
   "outputs": [],
   "source": [
    "# Create an instance (object) of the Person class\n",
    "person1 = Person(\"Alice\", 30)"
   ]
  },
  {
   "cell_type": "code",
   "execution_count": null,
   "id": "ac392d21",
   "metadata": {},
   "outputs": [
    {
     "name": "stdout",
     "output_type": "stream",
     "text": [
      "Alice\n"
     ]
    }
   ],
   "source": [
    "# Access attributes of the object\n",
    "print(person1.name)  # Output: Alice"
   ]
  },
  {
   "cell_type": "markdown",
   "id": "12f321a5",
   "metadata": {},
   "source": [
    "#### Methods\n",
    "Methods are functions defined within a class and are used to perform actions on the class's attributes or perform specific tasks related to the class. In the example, `greet` is a method of the `Person` class, and it prints a greeting message using the object's attributes."
   ]
  },
  {
   "cell_type": "code",
   "execution_count": null,
   "id": "700c16e3",
   "metadata": {},
   "outputs": [
    {
     "name": "stdout",
     "output_type": "stream",
     "text": [
      "Hello, my name is Alice and I am 30 years old.\n"
     ]
    }
   ],
   "source": [
    "# Call methods of the object\n",
    "person1.greet() # Output: Hello, my name is Alice and I am 30 years old."
   ]
  },
  {
   "cell_type": "markdown",
   "id": "19406db6",
   "metadata": {},
   "source": [
    "By creating classes, methods, and objects in Python, you can organize your code into reusable, structured components, which is a fundamental concept in object-oriented programming and is often used in data science for creating custom data structures and models."
   ]
  },
  {
   "cell_type": "markdown",
   "id": "e4fe9d78",
   "metadata": {},
   "source": [
    "__Practice Question:__\n",
    "    \n",
    "Given a CSV file with product details (name, price, quantity), create a Product class to manage the data."
   ]
  },
  {
   "cell_type": "markdown",
   "id": "1d1fb125",
   "metadata": {},
   "source": [
    "## 4.5 Data Manipulation"
   ]
  },
  {
   "cell_type": "markdown",
   "id": "832ebeae",
   "metadata": {},
   "source": [
    "### Introduction to `NumPy`  <a id='intro_to_numpy'></a>"
   ]
  },
  {
   "cell_type": "markdown",
   "id": "73765d28",
   "metadata": {},
   "source": [
    "`NumPy` is a popular Python library for numerical computations. It provides support for creating and manipulating [arrays](https://jakevdp.github.io/PythonDataScienceHandbook/02.02-the-basics-of-numpy-arrays.html), which are essential for data science and scientific computing. \n",
    "\n",
    "Here's an example code demonstrating how to create and manipulate arrays using `NumPy`:\n",
    "\n",
    "#### Import the` NumPy` library\n",
    "We import the `NumPy` library as `np`."
   ]
  },
  {
   "cell_type": "code",
   "execution_count": 3,
   "id": "47545954",
   "metadata": {},
   "outputs": [],
   "source": [
    "import numpy as np"
   ]
  },
  {
   "cell_type": "markdown",
   "id": "8409c127",
   "metadata": {},
   "source": [
    "#### Creating a NumPy array from a Python list\n",
    "We create a `NumPy` array from a Python list and perform basic mathematical operations like addition and multiplication on the array."
   ]
  },
  {
   "cell_type": "code",
   "execution_count": 4,
   "id": "81023c19",
   "metadata": {},
   "outputs": [
    {
     "data": {
      "text/plain": [
       "array([1, 2, 3, 4, 5])"
      ]
     },
     "execution_count": 4,
     "metadata": {},
     "output_type": "execute_result"
    }
   ],
   "source": [
    "my_list = [1, 2, 3, 4, 5]\n",
    "my_array = np.array(my_list)\n",
    "my_array"
   ]
  },
  {
   "cell_type": "markdown",
   "id": "6426c277",
   "metadata": {},
   "source": [
    "#### Basic array operations"
   ]
  },
  {
   "cell_type": "markdown",
   "id": "32fde90c",
   "metadata": {},
   "source": [
    "##### Element-wise addition"
   ]
  },
  {
   "cell_type": "code",
   "execution_count": 5,
   "id": "634a6f7f",
   "metadata": {},
   "outputs": [
    {
     "name": "stdout",
     "output_type": "stream",
     "text": [
      "Array after addition: [11 12 13 14 15]\n"
     ]
    }
   ],
   "source": [
    "# Adds 10 to each element in the array\n",
    "result = my_array + 10\n",
    "print(\"Array after addition:\", result)"
   ]
  },
  {
   "cell_type": "markdown",
   "id": "d60e10c1",
   "metadata": {},
   "source": [
    "##### Element-wise multiplication"
   ]
  },
  {
   "cell_type": "code",
   "execution_count": 6,
   "id": "85cb821a",
   "metadata": {},
   "outputs": [
    {
     "name": "stdout",
     "output_type": "stream",
     "text": [
      "Array after multiplication: [ 2  4  6  8 10]\n"
     ]
    }
   ],
   "source": [
    "# Multiply each element by 2\n",
    "result = my_array * 2\n",
    "print(\"Array after multiplication:\", result)"
   ]
  },
  {
   "cell_type": "markdown",
   "id": "7909c0a1",
   "metadata": {},
   "source": [
    "##### Finding the mean and sum of the array\n",
    "We calculate the mean and sum of the array elements."
   ]
  },
  {
   "cell_type": "code",
   "execution_count": 7,
   "id": "cea50416",
   "metadata": {},
   "outputs": [
    {
     "name": "stdout",
     "output_type": "stream",
     "text": [
      "Mean: 3.0\n",
      "Sum: 15\n"
     ]
    }
   ],
   "source": [
    "mean_value = np.mean(my_array)\n",
    "sum_value = np.sum(my_array)\n",
    "print(\"Mean:\", mean_value)\n",
    "print(\"Sum:\", sum_value)"
   ]
  },
  {
   "cell_type": "markdown",
   "id": "b8ae152b",
   "metadata": {},
   "source": [
    "`NumPy` is a fundamental library for data manipulation in Python and is widely used in data science and scientific computing."
   ]
  },
  {
   "cell_type": "markdown",
   "id": "4da9345d",
   "metadata": {},
   "source": [
    "__Practice Questions:__"
   ]
  },
  {
   "cell_type": "markdown",
   "id": "9f03a2b8",
   "metadata": {},
   "source": [
    "1. Create a NumPY array from a list of even numbers `from 2 to 20`\n",
    "2. Convert the following Python list to a NumPy array: `[5, 10, 15, 20, 25, 30, 35, 40 ,45, 50]`\n",
    "3. Create a 2D NumPy array from a nested list: `[[1, 2], [3, 8], [9, 15]]`"
   ]
  },
  {
   "cell_type": "markdown",
   "id": "c381025f",
   "metadata": {},
   "source": [
    "### Introduction to `Pandas` <a id='introduction_to_pandas'></a>\n",
    "Below are examples of Pandas code for various data manipulation tasks, including reading, writing, and preprocessing data in different formats.\n",
    "\n",
    "You can create a DataFrame and Series from a Python dictionary, where keys represent column names and values are lists of data for each column."
   ]
  },
  {
   "cell_type": "markdown",
   "id": "c2843b57",
   "metadata": {},
   "source": [
    "#### Creating a Pandas Series  <a id='create_series'></a>"
   ]
  },
  {
   "cell_type": "code",
   "execution_count": 8,
   "id": "fa42c6d6",
   "metadata": {},
   "outputs": [
    {
     "data": {
      "text/plain": [
       "California    38332521\n",
       "Texas         26448193\n",
       "New York      19651127\n",
       "Florida       19552860\n",
       "Illinois      12882135\n",
       "dtype: int64"
      ]
     },
     "execution_count": 8,
     "metadata": {},
     "output_type": "execute_result"
    }
   ],
   "source": [
    "# !pip install pandas\n",
    "import pandas as pd\n",
    "\n",
    "# Create a dictionary \n",
    "my_dict1 = {\n",
    "    'California': 38332521,\n",
    "    'Texas': 26448193,\n",
    "    'New York': 19651127,\n",
    "    'Florida': 19552860,\n",
    "    'Illinois': 12882135\n",
    "}\n",
    "\n",
    "# Convert the my_dict1 into a series\n",
    "my_series = pd.Series(my_dict1)\n",
    "my_series"
   ]
  },
  {
   "cell_type": "code",
   "execution_count": 9,
   "id": "b5e38255",
   "metadata": {},
   "outputs": [
    {
     "data": {
      "text/plain": [
       "Index(['California', 'Texas', 'New York', 'Florida', 'Illinois'], dtype='object')"
      ]
     },
     "execution_count": 9,
     "metadata": {},
     "output_type": "execute_result"
    }
   ],
   "source": [
    "# print index of the series\n",
    "my_series.index"
   ]
  },
  {
   "cell_type": "code",
   "execution_count": 10,
   "id": "1ba5025c",
   "metadata": {},
   "outputs": [
    {
     "data": {
      "text/plain": [
       "array([38332521, 26448193, 19651127, 19552860, 12882135], dtype=int64)"
      ]
     },
     "execution_count": 10,
     "metadata": {},
     "output_type": "execute_result"
    }
   ],
   "source": [
    "# print values of the series\n",
    "my_series.values"
   ]
  },
  {
   "cell_type": "markdown",
   "id": "ea5ebb3e",
   "metadata": {},
   "source": [
    "#### Creating a DataFrame  <a id='create_dataframe'></a>"
   ]
  },
  {
   "cell_type": "code",
   "execution_count": 11,
   "id": "ae5ee609",
   "metadata": {},
   "outputs": [],
   "source": [
    "# Data dictionary\n",
    "data = {\n",
    "    'Name': ['Alice', 'Bob', 'Charlie'],\n",
    "    'Age': [25, 30, 35],\n",
    "    'Height': [164, 145, np.nan],\n",
    "    'Date': ['2020-01-01', '2022-01-02', '2023-01-03']\n",
    "       }\n",
    "\n",
    "# Convert Dictionary to Pandas DataFrame\n",
    "df = pd.DataFrame(data)"
   ]
  },
  {
   "cell_type": "code",
   "execution_count": 12,
   "id": "514bd28b",
   "metadata": {},
   "outputs": [
    {
     "data": {
      "text/html": [
       "<div>\n",
       "<style scoped>\n",
       "    .dataframe tbody tr th:only-of-type {\n",
       "        vertical-align: middle;\n",
       "    }\n",
       "\n",
       "    .dataframe tbody tr th {\n",
       "        vertical-align: top;\n",
       "    }\n",
       "\n",
       "    .dataframe thead th {\n",
       "        text-align: right;\n",
       "    }\n",
       "</style>\n",
       "<table border=\"1\" class=\"dataframe\">\n",
       "  <thead>\n",
       "    <tr style=\"text-align: right;\">\n",
       "      <th></th>\n",
       "      <th>Name</th>\n",
       "      <th>Age</th>\n",
       "      <th>Height</th>\n",
       "      <th>Date</th>\n",
       "    </tr>\n",
       "  </thead>\n",
       "  <tbody>\n",
       "    <tr>\n",
       "      <th>0</th>\n",
       "      <td>Alice</td>\n",
       "      <td>25</td>\n",
       "      <td>164.0</td>\n",
       "      <td>2020-01-01</td>\n",
       "    </tr>\n",
       "    <tr>\n",
       "      <th>1</th>\n",
       "      <td>Bob</td>\n",
       "      <td>30</td>\n",
       "      <td>145.0</td>\n",
       "      <td>2022-01-02</td>\n",
       "    </tr>\n",
       "    <tr>\n",
       "      <th>2</th>\n",
       "      <td>Charlie</td>\n",
       "      <td>35</td>\n",
       "      <td>NaN</td>\n",
       "      <td>2023-01-03</td>\n",
       "    </tr>\n",
       "  </tbody>\n",
       "</table>\n",
       "</div>"
      ],
      "text/plain": [
       "      Name  Age  Height        Date\n",
       "0    Alice   25   164.0  2020-01-01\n",
       "1      Bob   30   145.0  2022-01-02\n",
       "2  Charlie   35     NaN  2023-01-03"
      ]
     },
     "execution_count": 12,
     "metadata": {},
     "output_type": "execute_result"
    }
   ],
   "source": [
    "# View dataframe\n",
    "df.head()"
   ]
  },
  {
   "cell_type": "code",
   "execution_count": 13,
   "id": "2e911b3e",
   "metadata": {},
   "outputs": [
    {
     "name": "stdout",
     "output_type": "stream",
     "text": [
      "<class 'pandas.core.frame.DataFrame'>\n",
      "RangeIndex: 3 entries, 0 to 2\n",
      "Data columns (total 4 columns):\n",
      " #   Column  Non-Null Count  Dtype  \n",
      "---  ------  --------------  -----  \n",
      " 0   Name    3 non-null      object \n",
      " 1   Age     3 non-null      int64  \n",
      " 2   Height  2 non-null      float64\n",
      " 3   Date    3 non-null      object \n",
      "dtypes: float64(1), int64(1), object(2)\n",
      "memory usage: 228.0+ bytes\n",
      "None\n"
     ]
    }
   ],
   "source": [
    "# data profiling\n",
    "print(df.info())"
   ]
  },
  {
   "cell_type": "markdown",
   "id": "994a0451",
   "metadata": {},
   "source": [
    "__Practice Questions:__\n",
    "\n",
    "1. Create a DataFrame from a list of dictionaries containing customer information (name, age, annual_income).\n",
    "\n",
    "2. Convert a NumPy array `my_array` into a DataFrame with 2 columns: `'Column1'` and `'Column2'`.\n",
    "\n",
    "3. Create an empty DataFrame with columns `'A'`, `'B'`, and `'C'`.\n",
    "    "
   ]
  },
  {
   "cell_type": "markdown",
   "id": "f22bc5da",
   "metadata": {},
   "source": [
    "__Date Manipulation__\n",
    "\n",
    "You can cast an `Date` column to `datetime` format using pandas."
   ]
  },
  {
   "cell_type": "code",
   "execution_count": 14,
   "id": "2d8f37cb",
   "metadata": {},
   "outputs": [
    {
     "name": "stdout",
     "output_type": "stream",
     "text": [
      "<class 'pandas.core.frame.DataFrame'>\n",
      "RangeIndex: 3 entries, 0 to 2\n",
      "Data columns (total 4 columns):\n",
      " #   Column  Non-Null Count  Dtype         \n",
      "---  ------  --------------  -----         \n",
      " 0   Name    3 non-null      object        \n",
      " 1   Age     3 non-null      int64         \n",
      " 2   Height  2 non-null      float64       \n",
      " 3   Date    3 non-null      datetime64[ns]\n",
      "dtypes: datetime64[ns](1), float64(1), int64(1), object(1)\n",
      "memory usage: 228.0+ bytes\n"
     ]
    }
   ],
   "source": [
    "df['Date'] = pd.to_datetime(df['Date'])\n",
    "df.info()"
   ]
  },
  {
   "cell_type": "code",
   "execution_count": 1,
   "id": "85e94e59",
   "metadata": {},
   "outputs": [],
   "source": [
    "from datetime import datetime, timedelta, date"
   ]
  },
  {
   "cell_type": "code",
   "execution_count": 42,
   "id": "25c13db5",
   "metadata": {},
   "outputs": [
    {
     "data": {
      "text/plain": [
       "'2024-05-04'"
      ]
     },
     "execution_count": 42,
     "metadata": {},
     "output_type": "execute_result"
    }
   ],
   "source": [
    "# Format date as a string\n",
    "date_string = date.today().strftime('%Y-%m-%d')\n",
    "date_string"
   ]
  },
  {
   "cell_type": "code",
   "execution_count": 46,
   "id": "6cde98df",
   "metadata": {},
   "outputs": [
    {
     "data": {
      "text/plain": [
       "datetime.datetime(2024, 5, 4, 0, 0)"
      ]
     },
     "execution_count": 46,
     "metadata": {},
     "output_type": "execute_result"
    }
   ],
   "source": [
    "# Parse a string as a date\n",
    "datetime.strptime(date_string, '%Y-%m-%d')"
   ]
  },
  {
   "cell_type": "code",
   "execution_count": 53,
   "id": "f186fb1e",
   "metadata": {},
   "outputs": [
    {
     "data": {
      "text/plain": [
       "'2024-05-04'"
      ]
     },
     "execution_count": 53,
     "metadata": {},
     "output_type": "execute_result"
    }
   ],
   "source": [
    "# Parse a string as a date\n",
    "from dateutil.parser import parse\n",
    "date_string2 = '{:%Y-%m-%d}'.format(datetime.now())\n",
    "date_string2"
   ]
  },
  {
   "cell_type": "code",
   "execution_count": 26,
   "id": "11a3513b",
   "metadata": {},
   "outputs": [
    {
     "data": {
      "text/plain": [
       "datetime.date(2024, 4, 24)"
      ]
     },
     "execution_count": 26,
     "metadata": {},
     "output_type": "execute_result"
    }
   ],
   "source": [
    "# Get today's date\n",
    "today = date.today()\n",
    "\n",
    "# Subtract 10 days from today's date\n",
    "past_date = today - timedelta(days=10)\n",
    "past_date"
   ]
  },
  {
   "cell_type": "code",
   "execution_count": 27,
   "id": "2eeea913",
   "metadata": {},
   "outputs": [
    {
     "data": {
      "text/plain": [
       "datetime.date(2024, 5, 9)"
      ]
     },
     "execution_count": 27,
     "metadata": {},
     "output_type": "execute_result"
    }
   ],
   "source": [
    "# Add 5 days to today's date\n",
    "future_date = today + timedelta(days=5)\n",
    "future_date"
   ]
  },
  {
   "cell_type": "code",
   "execution_count": 54,
   "id": "d5f2a701",
   "metadata": {},
   "outputs": [
    {
     "ename": "TypeError",
     "evalue": "unbound method date.weekday() needs an argument",
     "output_type": "error",
     "traceback": [
      "\u001b[1;31m---------------------------------------------------------------------------\u001b[0m",
      "\u001b[1;31mTypeError\u001b[0m                                 Traceback (most recent call last)",
      "Cell \u001b[1;32mIn[54], line 2\u001b[0m\n\u001b[0;32m      1\u001b[0m \u001b[38;5;66;03m# Date features\u001b[39;00m\n\u001b[1;32m----> 2\u001b[0m day_of_week \u001b[38;5;241m=\u001b[39m \u001b[43mdate\u001b[49m\u001b[38;5;241;43m.\u001b[39;49m\u001b[43mweekday\u001b[49m\u001b[43m(\u001b[49m\u001b[43m)\u001b[49m\n\u001b[0;32m      3\u001b[0m day_of_week\n",
      "\u001b[1;31mTypeError\u001b[0m: unbound method date.weekday() needs an argument"
     ]
    }
   ],
   "source": [
    "# Date features\n",
    "day_of_week = date.weekday()\n",
    "day_of_week"
   ]
  },
  {
   "cell_type": "markdown",
   "id": "f6772dff",
   "metadata": {},
   "source": [
    "#### Writing data  <a id='write_data'></a>\n",
    "To write data back to different formats:"
   ]
  },
  {
   "cell_type": "code",
   "execution_count": null,
   "id": "8a2ef345",
   "metadata": {},
   "outputs": [],
   "source": [
    "# Writing to CSV\n",
    "df.to_csv('new_data.csv', index=False)"
   ]
  },
  {
   "cell_type": "code",
   "execution_count": null,
   "id": "e081f8db",
   "metadata": {},
   "outputs": [],
   "source": [
    "# Writing to excel\n",
    "df.to_excel('new_data.xlsx', sheet_name='Sheet1', index=False)"
   ]
  },
  {
   "cell_type": "markdown",
   "id": "395d0858",
   "metadata": {},
   "source": [
    "You can use `example.db` to open a database connection to a database that resides\n",
    "on disk instead of in RAM that uses `:memory:`."
   ]
  },
  {
   "cell_type": "code",
   "execution_count": null,
   "id": "9d9c57e0",
   "metadata": {},
   "outputs": [],
   "source": [
    "import sqlite3\n",
    "\n",
    "# Create a database connection named conn to 'mlg382.db' sql database\n",
    "conn = sqlite3.connect('example.db')\n",
    "\n",
    "# This cursor object is used to execute SQL commands\n",
    "c = conn.cursor()"
   ]
  },
  {
   "cell_type": "code",
   "execution_count": null,
   "id": "464f2084",
   "metadata": {},
   "outputs": [
    {
     "ename": "OperationalError",
     "evalue": "table stocks already exists",
     "output_type": "error",
     "traceback": [
      "\u001b[1;31m---------------------------------------------------------------------------\u001b[0m",
      "\u001b[1;31mOperationalError\u001b[0m                          Traceback (most recent call last)",
      "Cell \u001b[1;32mIn[17], line 6\u001b[0m\n\u001b[0;32m      1\u001b[0m \u001b[38;5;66;03m# Execute a SQL query to create a table named stocks\u001b[39;00m\n\u001b[0;32m      2\u001b[0m query_tbl \u001b[38;5;241m=\u001b[39m \u001b[38;5;124m\"\"\"\u001b[39m\n\u001b[0;32m      3\u001b[0m \u001b[38;5;124mCREATE TABLE stocks \u001b[39m\n\u001b[0;32m      4\u001b[0m \u001b[38;5;124m(date text, trans text, symbol text, qty real, price real)\u001b[39m\n\u001b[0;32m      5\u001b[0m \u001b[38;5;124m\"\"\"\u001b[39m\n\u001b[1;32m----> 6\u001b[0m \u001b[43mc\u001b[49m\u001b[38;5;241;43m.\u001b[39;49m\u001b[43mexecute\u001b[49m\u001b[43m(\u001b[49m\u001b[43mquery_tbl\u001b[49m\u001b[43m)\u001b[49m\n",
      "\u001b[1;31mOperationalError\u001b[0m: table stocks already exists"
     ]
    }
   ],
   "source": [
    "# Execute a SQL query to create a table named stocks\n",
    "query_tbl = \"\"\"\n",
    "CREATE TABLE IF NOT EXISTS stocks \n",
    "(date text, trans text, symbol text, qty real, price real)\n",
    "\"\"\"\n",
    "c.execute(query_tbl)"
   ]
  },
  {
   "cell_type": "code",
   "execution_count": 18,
   "id": "4ee95b56",
   "metadata": {},
   "outputs": [
    {
     "data": {
      "text/plain": [
       "<sqlite3.Cursor at 0x174a74e6b40>"
      ]
     },
     "execution_count": 18,
     "metadata": {},
     "output_type": "execute_result"
    }
   ],
   "source": [
    "# Insert data into the table\n",
    "query_insert = \"\"\"\n",
    "INSERT INTO stocks \n",
    "VALUES('2006-01-05', 'BUY', 'MSFT', 200, 47.23)\n",
    "\"\"\"\n",
    "c.execute(query_insert)"
   ]
  },
  {
   "cell_type": "code",
   "execution_count": 19,
   "id": "8e4bb327",
   "metadata": {},
   "outputs": [],
   "source": [
    "query_data = \"\"\"\n",
    "SELECT * \n",
    "FROM stocks\n",
    "\"\"\"\n",
    "data = pd.DataFrame(c.execute(query_data))"
   ]
  },
  {
   "cell_type": "code",
   "execution_count": 20,
   "id": "d0a6cb49",
   "metadata": {},
   "outputs": [
    {
     "name": "stdout",
     "output_type": "stream",
     "text": [
      "<class 'pandas.core.frame.DataFrame'>\n",
      "RangeIndex: 3 entries, 0 to 2\n",
      "Data columns (total 5 columns):\n",
      " #   Column  Non-Null Count  Dtype  \n",
      "---  ------  --------------  -----  \n",
      " 0   0       3 non-null      object \n",
      " 1   1       3 non-null      object \n",
      " 2   2       3 non-null      object \n",
      " 3   3       3 non-null      float64\n",
      " 4   4       3 non-null      float64\n",
      "dtypes: float64(2), object(3)\n",
      "memory usage: 252.0+ bytes\n"
     ]
    }
   ],
   "source": [
    "data.info()"
   ]
  },
  {
   "cell_type": "code",
   "execution_count": 94,
   "id": "3b8ec8b8",
   "metadata": {},
   "outputs": [
    {
     "data": {
      "text/plain": [
       "3"
      ]
     },
     "execution_count": 94,
     "metadata": {},
     "output_type": "execute_result"
    }
   ],
   "source": [
    "# Writing df to sql database\n",
    "df.to_sql(name='data12', con=conn)"
   ]
  },
  {
   "cell_type": "markdown",
   "id": "8d2069c2",
   "metadata": {},
   "source": [
    "#### Reading Data <a id='read_data'></a>\n",
    "To read data from different formats like CSV, Excel, and SQL databases:\n",
    "\n",
    "**CSV**"
   ]
  },
  {
   "cell_type": "code",
   "execution_count": 95,
   "id": "9d357620",
   "metadata": {},
   "outputs": [
    {
     "data": {
      "text/html": [
       "<div>\n",
       "<style scoped>\n",
       "    .dataframe tbody tr th:only-of-type {\n",
       "        vertical-align: middle;\n",
       "    }\n",
       "\n",
       "    .dataframe tbody tr th {\n",
       "        vertical-align: top;\n",
       "    }\n",
       "\n",
       "    .dataframe thead th {\n",
       "        text-align: right;\n",
       "    }\n",
       "</style>\n",
       "<table border=\"1\" class=\"dataframe\">\n",
       "  <thead>\n",
       "    <tr style=\"text-align: right;\">\n",
       "      <th></th>\n",
       "      <th>Name</th>\n",
       "      <th>Age</th>\n",
       "      <th>Height</th>\n",
       "      <th>Date</th>\n",
       "    </tr>\n",
       "  </thead>\n",
       "  <tbody>\n",
       "    <tr>\n",
       "      <th>0</th>\n",
       "      <td>Alice</td>\n",
       "      <td>25</td>\n",
       "      <td>164.0</td>\n",
       "      <td>2020-01-01</td>\n",
       "    </tr>\n",
       "    <tr>\n",
       "      <th>1</th>\n",
       "      <td>Bob</td>\n",
       "      <td>30</td>\n",
       "      <td>145.0</td>\n",
       "      <td>2022-01-02</td>\n",
       "    </tr>\n",
       "    <tr>\n",
       "      <th>2</th>\n",
       "      <td>Charlie</td>\n",
       "      <td>35</td>\n",
       "      <td>NaN</td>\n",
       "      <td>2023-01-03</td>\n",
       "    </tr>\n",
       "  </tbody>\n",
       "</table>\n",
       "</div>"
      ],
      "text/plain": [
       "      Name  Age  Height        Date\n",
       "0    Alice   25   164.0  2020-01-01\n",
       "1      Bob   30   145.0  2022-01-02\n",
       "2  Charlie   35     NaN  2023-01-03"
      ]
     },
     "execution_count": 95,
     "metadata": {},
     "output_type": "execute_result"
    }
   ],
   "source": [
    "# From CSV\n",
    "df_csv = pd.read_csv('new_data.csv')\n",
    "df_csv"
   ]
  },
  {
   "cell_type": "markdown",
   "id": "1d6a70eb",
   "metadata": {},
   "source": [
    "**Excel**"
   ]
  },
  {
   "cell_type": "code",
   "execution_count": 96,
   "id": "636c1bf2",
   "metadata": {},
   "outputs": [
    {
     "data": {
      "text/html": [
       "<div>\n",
       "<style scoped>\n",
       "    .dataframe tbody tr th:only-of-type {\n",
       "        vertical-align: middle;\n",
       "    }\n",
       "\n",
       "    .dataframe tbody tr th {\n",
       "        vertical-align: top;\n",
       "    }\n",
       "\n",
       "    .dataframe thead th {\n",
       "        text-align: right;\n",
       "    }\n",
       "</style>\n",
       "<table border=\"1\" class=\"dataframe\">\n",
       "  <thead>\n",
       "    <tr style=\"text-align: right;\">\n",
       "      <th></th>\n",
       "      <th>Name</th>\n",
       "      <th>Age</th>\n",
       "      <th>Height</th>\n",
       "      <th>Date</th>\n",
       "    </tr>\n",
       "  </thead>\n",
       "  <tbody>\n",
       "    <tr>\n",
       "      <th>0</th>\n",
       "      <td>Alice</td>\n",
       "      <td>25</td>\n",
       "      <td>164.0</td>\n",
       "      <td>2020-01-01</td>\n",
       "    </tr>\n",
       "    <tr>\n",
       "      <th>1</th>\n",
       "      <td>Bob</td>\n",
       "      <td>30</td>\n",
       "      <td>145.0</td>\n",
       "      <td>2022-01-02</td>\n",
       "    </tr>\n",
       "    <tr>\n",
       "      <th>2</th>\n",
       "      <td>Charlie</td>\n",
       "      <td>35</td>\n",
       "      <td>NaN</td>\n",
       "      <td>2023-01-03</td>\n",
       "    </tr>\n",
       "  </tbody>\n",
       "</table>\n",
       "</div>"
      ],
      "text/plain": [
       "      Name  Age  Height       Date\n",
       "0    Alice   25   164.0 2020-01-01\n",
       "1      Bob   30   145.0 2022-01-02\n",
       "2  Charlie   35     NaN 2023-01-03"
      ]
     },
     "execution_count": 96,
     "metadata": {},
     "output_type": "execute_result"
    }
   ],
   "source": [
    "# From Excel\n",
    "df_excel = pd.read_excel('new_data.xlsx', sheet_name='Sheet1')\n",
    "df_excel"
   ]
  },
  {
   "cell_type": "markdown",
   "id": "ea51aa10",
   "metadata": {},
   "source": [
    "**SQL**"
   ]
  },
  {
   "cell_type": "code",
   "execution_count": 97,
   "id": "f0aa0a90",
   "metadata": {},
   "outputs": [
    {
     "data": {
      "text/html": [
       "<div>\n",
       "<style scoped>\n",
       "    .dataframe tbody tr th:only-of-type {\n",
       "        vertical-align: middle;\n",
       "    }\n",
       "\n",
       "    .dataframe tbody tr th {\n",
       "        vertical-align: top;\n",
       "    }\n",
       "\n",
       "    .dataframe thead th {\n",
       "        text-align: right;\n",
       "    }\n",
       "</style>\n",
       "<table border=\"1\" class=\"dataframe\">\n",
       "  <thead>\n",
       "    <tr style=\"text-align: right;\">\n",
       "      <th></th>\n",
       "      <th>0</th>\n",
       "      <th>1</th>\n",
       "      <th>2</th>\n",
       "      <th>3</th>\n",
       "      <th>4</th>\n",
       "    </tr>\n",
       "  </thead>\n",
       "  <tbody>\n",
       "    <tr>\n",
       "      <th>0</th>\n",
       "      <td>0</td>\n",
       "      <td>Alice</td>\n",
       "      <td>25</td>\n",
       "      <td>164.0</td>\n",
       "      <td>2020-01-01 00:00:00</td>\n",
       "    </tr>\n",
       "    <tr>\n",
       "      <th>1</th>\n",
       "      <td>1</td>\n",
       "      <td>Bob</td>\n",
       "      <td>30</td>\n",
       "      <td>145.0</td>\n",
       "      <td>2022-01-02 00:00:00</td>\n",
       "    </tr>\n",
       "    <tr>\n",
       "      <th>2</th>\n",
       "      <td>2</td>\n",
       "      <td>Charlie</td>\n",
       "      <td>35</td>\n",
       "      <td>NaN</td>\n",
       "      <td>2023-01-03 00:00:00</td>\n",
       "    </tr>\n",
       "  </tbody>\n",
       "</table>\n",
       "</div>"
      ],
      "text/plain": [
       "   0        1   2      3                    4\n",
       "0  0    Alice  25  164.0  2020-01-01 00:00:00\n",
       "1  1      Bob  30  145.0  2022-01-02 00:00:00\n",
       "2  2  Charlie  35    NaN  2023-01-03 00:00:00"
      ]
     },
     "execution_count": 97,
     "metadata": {},
     "output_type": "execute_result"
    }
   ],
   "source": [
    "df1 = pd.DataFrame(c.execute(\"SELECT * FROM data12\"))\n",
    "df1"
   ]
  },
  {
   "cell_type": "markdown",
   "id": "64f4f00f",
   "metadata": {},
   "source": [
    "Read data from SQL via either a SQL query or a SQL tablename.\n",
    "When using a `SQLite` database only SQL queries are accepted,\n",
    "providing only the SQL tablename will result in an error."
   ]
  },
  {
   "cell_type": "code",
   "execution_count": 98,
   "id": "90f8b0a7",
   "metadata": {},
   "outputs": [
    {
     "data": {
      "text/html": [
       "<div>\n",
       "<style scoped>\n",
       "    .dataframe tbody tr th:only-of-type {\n",
       "        vertical-align: middle;\n",
       "    }\n",
       "\n",
       "    .dataframe tbody tr th {\n",
       "        vertical-align: top;\n",
       "    }\n",
       "\n",
       "    .dataframe thead th {\n",
       "        text-align: right;\n",
       "    }\n",
       "</style>\n",
       "<table border=\"1\" class=\"dataframe\">\n",
       "  <thead>\n",
       "    <tr style=\"text-align: right;\">\n",
       "      <th></th>\n",
       "      <th>index</th>\n",
       "      <th>Name</th>\n",
       "      <th>Age</th>\n",
       "      <th>Height</th>\n",
       "      <th>Date</th>\n",
       "    </tr>\n",
       "  </thead>\n",
       "  <tbody>\n",
       "    <tr>\n",
       "      <th>0</th>\n",
       "      <td>1</td>\n",
       "      <td>Bob</td>\n",
       "      <td>30</td>\n",
       "      <td>145.0</td>\n",
       "      <td>2022-01-02 00:00:00</td>\n",
       "    </tr>\n",
       "    <tr>\n",
       "      <th>1</th>\n",
       "      <td>2</td>\n",
       "      <td>Charlie</td>\n",
       "      <td>35</td>\n",
       "      <td>NaN</td>\n",
       "      <td>2023-01-03 00:00:00</td>\n",
       "    </tr>\n",
       "  </tbody>\n",
       "</table>\n",
       "</div>"
      ],
      "text/plain": [
       "   index     Name  Age  Height                 Date\n",
       "0      1      Bob   30   145.0  2022-01-02 00:00:00\n",
       "1      2  Charlie   35     NaN  2023-01-03 00:00:00"
      ]
     },
     "execution_count": 98,
     "metadata": {},
     "output_type": "execute_result"
    }
   ],
   "source": [
    "# From SQL database\n",
    "query = '''\n",
    "SELECT * \n",
    "FROM data12\n",
    "WHERE Age>=30\n",
    "'''\n",
    "pd.read_sql(\n",
    "    sql=query, \n",
    "    con=conn,\n",
    "    parse_dates={\"Date\": {\"format\": \"%d/%m/%y\"}}\n",
    ")"
   ]
  },
  {
   "cell_type": "code",
   "execution_count": 115,
   "id": "57e80d46",
   "metadata": {},
   "outputs": [],
   "source": [
    "# Commit and Close connection\n",
    "conn.commit()\n",
    "conn.close()"
   ]
  },
  {
   "cell_type": "markdown",
   "id": "a3cb2b58",
   "metadata": {},
   "source": [
    "#### Data Manipulation\n",
    "You can perform various [data manipulation](https://jakevdp.github.io/PythonDataScienceHandbook/03.00-introduction-to-pandas.html) operations, like selecting columns, filtering rows, and applying functions to columns.\n",
    "\n",
    "**Filter by column**"
   ]
  },
  {
   "cell_type": "code",
   "execution_count": 99,
   "id": "090286ac",
   "metadata": {},
   "outputs": [
    {
     "data": {
      "text/html": [
       "<div>\n",
       "<style scoped>\n",
       "    .dataframe tbody tr th:only-of-type {\n",
       "        vertical-align: middle;\n",
       "    }\n",
       "\n",
       "    .dataframe tbody tr th {\n",
       "        vertical-align: top;\n",
       "    }\n",
       "\n",
       "    .dataframe thead th {\n",
       "        text-align: right;\n",
       "    }\n",
       "</style>\n",
       "<table border=\"1\" class=\"dataframe\">\n",
       "  <thead>\n",
       "    <tr style=\"text-align: right;\">\n",
       "      <th></th>\n",
       "      <th>Name</th>\n",
       "      <th>Age</th>\n",
       "    </tr>\n",
       "  </thead>\n",
       "  <tbody>\n",
       "    <tr>\n",
       "      <th>0</th>\n",
       "      <td>Alice</td>\n",
       "      <td>25</td>\n",
       "    </tr>\n",
       "    <tr>\n",
       "      <th>1</th>\n",
       "      <td>Bob</td>\n",
       "      <td>30</td>\n",
       "    </tr>\n",
       "    <tr>\n",
       "      <th>2</th>\n",
       "      <td>Charlie</td>\n",
       "      <td>35</td>\n",
       "    </tr>\n",
       "  </tbody>\n",
       "</table>\n",
       "</div>"
      ],
      "text/plain": [
       "      Name  Age\n",
       "0    Alice   25\n",
       "1      Bob   30\n",
       "2  Charlie   35"
      ]
     },
     "execution_count": 99,
     "metadata": {},
     "output_type": "execute_result"
    }
   ],
   "source": [
    "# Selecting Columns\n",
    "selected_columns = df[['Name', 'Age']]\n",
    "selected_columns"
   ]
  },
  {
   "cell_type": "markdown",
   "id": "50b769d7",
   "metadata": {},
   "source": [
    "**Filter by row (`Boolean masking`)**"
   ]
  },
  {
   "cell_type": "code",
   "execution_count": 108,
   "id": "ef942c2b",
   "metadata": {},
   "outputs": [
    {
     "data": {
      "text/plain": [
       "0     True\n",
       "1    False\n",
       "2    False\n",
       "Name: Age, dtype: bool"
      ]
     },
     "execution_count": 108,
     "metadata": {},
     "output_type": "execute_result"
    }
   ],
   "source": [
    "# Creating a boolean mask\n",
    "age_mask = df['Age'] < 30\n",
    "age_mask"
   ]
  },
  {
   "cell_type": "code",
   "execution_count": 109,
   "id": "8c21cb75",
   "metadata": {},
   "outputs": [
    {
     "data": {
      "text/html": [
       "<div>\n",
       "<style scoped>\n",
       "    .dataframe tbody tr th:only-of-type {\n",
       "        vertical-align: middle;\n",
       "    }\n",
       "\n",
       "    .dataframe tbody tr th {\n",
       "        vertical-align: top;\n",
       "    }\n",
       "\n",
       "    .dataframe thead th {\n",
       "        text-align: right;\n",
       "    }\n",
       "</style>\n",
       "<table border=\"1\" class=\"dataframe\">\n",
       "  <thead>\n",
       "    <tr style=\"text-align: right;\">\n",
       "      <th></th>\n",
       "      <th>Name</th>\n",
       "      <th>Age</th>\n",
       "      <th>Height</th>\n",
       "      <th>Date</th>\n",
       "    </tr>\n",
       "  </thead>\n",
       "  <tbody>\n",
       "    <tr>\n",
       "      <th>0</th>\n",
       "      <td>Alice</td>\n",
       "      <td>26</td>\n",
       "      <td>164.0</td>\n",
       "      <td>2020-01-01</td>\n",
       "    </tr>\n",
       "  </tbody>\n",
       "</table>\n",
       "</div>"
      ],
      "text/plain": [
       "    Name  Age  Height       Date\n",
       "0  Alice   26   164.0 2020-01-01"
      ]
     },
     "execution_count": 109,
     "metadata": {},
     "output_type": "execute_result"
    }
   ],
   "source": [
    "# Filtering Rows using boolean mask\n",
    "filtered_data = df[age_mask]\n",
    "filtered_data"
   ]
  },
  {
   "cell_type": "markdown",
   "id": "53fb5f8f",
   "metadata": {},
   "source": [
    "**Use of Lambda function**"
   ]
  },
  {
   "cell_type": "code",
   "execution_count": 101,
   "id": "9fdd5355",
   "metadata": {},
   "outputs": [
    {
     "data": {
      "text/html": [
       "<div>\n",
       "<style scoped>\n",
       "    .dataframe tbody tr th:only-of-type {\n",
       "        vertical-align: middle;\n",
       "    }\n",
       "\n",
       "    .dataframe tbody tr th {\n",
       "        vertical-align: top;\n",
       "    }\n",
       "\n",
       "    .dataframe thead th {\n",
       "        text-align: right;\n",
       "    }\n",
       "</style>\n",
       "<table border=\"1\" class=\"dataframe\">\n",
       "  <thead>\n",
       "    <tr style=\"text-align: right;\">\n",
       "      <th></th>\n",
       "      <th>Name</th>\n",
       "      <th>Age</th>\n",
       "      <th>Height</th>\n",
       "      <th>Date</th>\n",
       "    </tr>\n",
       "  </thead>\n",
       "  <tbody>\n",
       "    <tr>\n",
       "      <th>0</th>\n",
       "      <td>Alice</td>\n",
       "      <td>26</td>\n",
       "      <td>164.0</td>\n",
       "      <td>2020-01-01</td>\n",
       "    </tr>\n",
       "    <tr>\n",
       "      <th>1</th>\n",
       "      <td>Bob</td>\n",
       "      <td>31</td>\n",
       "      <td>145.0</td>\n",
       "      <td>2022-01-02</td>\n",
       "    </tr>\n",
       "    <tr>\n",
       "      <th>2</th>\n",
       "      <td>Charlie</td>\n",
       "      <td>36</td>\n",
       "      <td>NaN</td>\n",
       "      <td>2023-01-03</td>\n",
       "    </tr>\n",
       "  </tbody>\n",
       "</table>\n",
       "</div>"
      ],
      "text/plain": [
       "      Name  Age  Height       Date\n",
       "0    Alice   26   164.0 2020-01-01\n",
       "1      Bob   31   145.0 2022-01-02\n",
       "2  Charlie   36     NaN 2023-01-03"
      ]
     },
     "execution_count": 101,
     "metadata": {},
     "output_type": "execute_result"
    }
   ],
   "source": [
    "# Apply Lambda function\n",
    "df['Age'] = (\n",
    "    df['Age'].apply(lambda x: x + 1)\n",
    ")\n",
    "df"
   ]
  },
  {
   "cell_type": "markdown",
   "id": "f8d105b0",
   "metadata": {},
   "source": [
    "__Using `Describe` method__\n",
    "\n",
    "The code below gives you summary statistics of numeric columns only."
   ]
  },
  {
   "cell_type": "code",
   "execution_count": 104,
   "id": "b80fd34e",
   "metadata": {},
   "outputs": [
    {
     "data": {
      "text/html": [
       "<div>\n",
       "<style scoped>\n",
       "    .dataframe tbody tr th:only-of-type {\n",
       "        vertical-align: middle;\n",
       "    }\n",
       "\n",
       "    .dataframe tbody tr th {\n",
       "        vertical-align: top;\n",
       "    }\n",
       "\n",
       "    .dataframe thead th {\n",
       "        text-align: right;\n",
       "    }\n",
       "</style>\n",
       "<table border=\"1\" class=\"dataframe\">\n",
       "  <thead>\n",
       "    <tr style=\"text-align: right;\">\n",
       "      <th></th>\n",
       "      <th>Age</th>\n",
       "      <th>Height</th>\n",
       "    </tr>\n",
       "  </thead>\n",
       "  <tbody>\n",
       "    <tr>\n",
       "      <th>count</th>\n",
       "      <td>3.0</td>\n",
       "      <td>2.000000</td>\n",
       "    </tr>\n",
       "    <tr>\n",
       "      <th>mean</th>\n",
       "      <td>31.0</td>\n",
       "      <td>154.500000</td>\n",
       "    </tr>\n",
       "    <tr>\n",
       "      <th>std</th>\n",
       "      <td>5.0</td>\n",
       "      <td>13.435029</td>\n",
       "    </tr>\n",
       "    <tr>\n",
       "      <th>min</th>\n",
       "      <td>26.0</td>\n",
       "      <td>145.000000</td>\n",
       "    </tr>\n",
       "    <tr>\n",
       "      <th>25%</th>\n",
       "      <td>28.5</td>\n",
       "      <td>149.750000</td>\n",
       "    </tr>\n",
       "    <tr>\n",
       "      <th>50%</th>\n",
       "      <td>31.0</td>\n",
       "      <td>154.500000</td>\n",
       "    </tr>\n",
       "    <tr>\n",
       "      <th>75%</th>\n",
       "      <td>33.5</td>\n",
       "      <td>159.250000</td>\n",
       "    </tr>\n",
       "    <tr>\n",
       "      <th>max</th>\n",
       "      <td>36.0</td>\n",
       "      <td>164.000000</td>\n",
       "    </tr>\n",
       "  </tbody>\n",
       "</table>\n",
       "</div>"
      ],
      "text/plain": [
       "        Age      Height\n",
       "count   3.0    2.000000\n",
       "mean   31.0  154.500000\n",
       "std     5.0   13.435029\n",
       "min    26.0  145.000000\n",
       "25%    28.5  149.750000\n",
       "50%    31.0  154.500000\n",
       "75%    33.5  159.250000\n",
       "max    36.0  164.000000"
      ]
     },
     "execution_count": 104,
     "metadata": {},
     "output_type": "execute_result"
    }
   ],
   "source": [
    "df.describe(include = 'number')"
   ]
  },
  {
   "cell_type": "code",
   "execution_count": 107,
   "id": "9f9cf913",
   "metadata": {},
   "outputs": [
    {
     "data": {
      "text/html": [
       "<div>\n",
       "<style scoped>\n",
       "    .dataframe tbody tr th:only-of-type {\n",
       "        vertical-align: middle;\n",
       "    }\n",
       "\n",
       "    .dataframe tbody tr th {\n",
       "        vertical-align: top;\n",
       "    }\n",
       "\n",
       "    .dataframe thead th {\n",
       "        text-align: right;\n",
       "    }\n",
       "</style>\n",
       "<table border=\"1\" class=\"dataframe\">\n",
       "  <thead>\n",
       "    <tr style=\"text-align: right;\">\n",
       "      <th></th>\n",
       "      <th>Name</th>\n",
       "      <th>Age</th>\n",
       "      <th>Height</th>\n",
       "      <th>Date</th>\n",
       "      <th>AH_Index</th>\n",
       "    </tr>\n",
       "  </thead>\n",
       "  <tbody>\n",
       "    <tr>\n",
       "      <th>0</th>\n",
       "      <td>Alice</td>\n",
       "      <td>26</td>\n",
       "      <td>164.0</td>\n",
       "      <td>2020-01-01</td>\n",
       "      <td>6.31</td>\n",
       "    </tr>\n",
       "    <tr>\n",
       "      <th>1</th>\n",
       "      <td>Bob</td>\n",
       "      <td>31</td>\n",
       "      <td>145.0</td>\n",
       "      <td>2022-01-02</td>\n",
       "      <td>4.68</td>\n",
       "    </tr>\n",
       "    <tr>\n",
       "      <th>2</th>\n",
       "      <td>Charlie</td>\n",
       "      <td>36</td>\n",
       "      <td>NaN</td>\n",
       "      <td>2023-01-03</td>\n",
       "      <td>NaN</td>\n",
       "    </tr>\n",
       "  </tbody>\n",
       "</table>\n",
       "</div>"
      ],
      "text/plain": [
       "      Name  Age  Height       Date  AH_Index\n",
       "0    Alice   26   164.0 2020-01-01      6.31\n",
       "1      Bob   31   145.0 2022-01-02      4.68\n",
       "2  Charlie   36     NaN 2023-01-03       NaN"
      ]
     },
     "execution_count": 107,
     "metadata": {},
     "output_type": "execute_result"
    }
   ],
   "source": [
    "# Assign a new column to a DataFrame\n",
    "df.assign(\n",
    "    AH_Index = lambda x: (x['Height'] / x['Age']).round(2)\n",
    ")"
   ]
  },
  {
   "cell_type": "code",
   "execution_count": 116,
   "id": "426bed09",
   "metadata": {},
   "outputs": [
    {
     "data": {
      "text/html": [
       "<div>\n",
       "<style scoped>\n",
       "    .dataframe tbody tr th:only-of-type {\n",
       "        vertical-align: middle;\n",
       "    }\n",
       "\n",
       "    .dataframe tbody tr th {\n",
       "        vertical-align: top;\n",
       "    }\n",
       "\n",
       "    .dataframe thead th {\n",
       "        text-align: right;\n",
       "    }\n",
       "</style>\n",
       "<table border=\"1\" class=\"dataframe\">\n",
       "  <thead>\n",
       "    <tr style=\"text-align: right;\">\n",
       "      <th></th>\n",
       "      <th>Summary</th>\n",
       "    </tr>\n",
       "  </thead>\n",
       "  <tbody>\n",
       "    <tr>\n",
       "      <th>sum</th>\n",
       "      <td>93.0</td>\n",
       "    </tr>\n",
       "    <tr>\n",
       "      <th>mean</th>\n",
       "      <td>31.0</td>\n",
       "    </tr>\n",
       "  </tbody>\n",
       "</table>\n",
       "</div>"
      ],
      "text/plain": [
       "      Summary\n",
       "sum      93.0\n",
       "mean     31.0"
      ]
     },
     "execution_count": 116,
     "metadata": {},
     "output_type": "execute_result"
    }
   ],
   "source": [
    "# Aggregate columns to create new column\n",
    "# agg is alias to aggregate\n",
    "pd.DataFrame(\n",
    "    df['Age'].agg(['sum', 'mean'])\n",
    ").set_axis(['Summary'], axis=1)"
   ]
  },
  {
   "cell_type": "code",
   "execution_count": 117,
   "id": "30e13352",
   "metadata": {},
   "outputs": [
    {
     "data": {
      "text/plain": [
       "31.0"
      ]
     },
     "execution_count": 117,
     "metadata": {},
     "output_type": "execute_result"
    }
   ],
   "source": [
    "# Calculate the mean age\n",
    "mean_age = df['Age'].mean()\n",
    "mean_age"
   ]
  },
  {
   "cell_type": "markdown",
   "id": "2acb83b8",
   "metadata": {},
   "source": [
    "**Indexing Series**"
   ]
  },
  {
   "cell_type": "code",
   "execution_count": 118,
   "id": "fbc91b21",
   "metadata": {},
   "outputs": [
    {
     "data": {
      "text/plain": [
       "38332521"
      ]
     },
     "execution_count": 118,
     "metadata": {},
     "output_type": "execute_result"
    }
   ],
   "source": [
    "# 1. Indexing a Series\n",
    "my_series['California']"
   ]
  },
  {
   "cell_type": "code",
   "execution_count": 121,
   "id": "657c12bc",
   "metadata": {},
   "outputs": [
    {
     "data": {
      "text/plain": [
       "California    38332521\n",
       "Texas         26448193\n",
       "New York      19651127\n",
       "Florida       19552860\n",
       "dtype: int64"
      ]
     },
     "execution_count": 121,
     "metadata": {},
     "output_type": "execute_result"
    }
   ],
   "source": [
    "# 2. Indexing a Series\n",
    "my_series['California':'Florida']"
   ]
  },
  {
   "cell_type": "markdown",
   "id": "9ee0d7b9",
   "metadata": {},
   "source": [
    "#### Data Cleaning and Preprocessing\n",
    "Cleaning and preprocessing often involve [handling missing values](https://jakevdp.github.io/PythonDataScienceHandbook/03.04-missing-values.html) and data type conversions."
   ]
  },
  {
   "cell_type": "code",
   "execution_count": 122,
   "id": "3a098a4b",
   "metadata": {},
   "outputs": [
    {
     "name": "stderr",
     "output_type": "stream",
     "text": [
      "<ipython-input-122-2159b7a1f316>:2: FutureWarning: A value is trying to be set on a copy of a DataFrame or Series through chained assignment using an inplace method.\n",
      "The behavior will change in pandas 3.0. This inplace method will never work because the intermediate object on which we are setting values always behaves as a copy.\n",
      "\n",
      "For example, when doing 'df[col].method(value, inplace=True)', try using 'df.method({col: value}, inplace=True)' or df[col] = df[col].method(value) instead, to perform the operation inplace on the original object.\n",
      "\n",
      "\n",
      "  df['Height'].fillna(value=0, inplace=True)\n"
     ]
    },
    {
     "data": {
      "text/html": [
       "<div>\n",
       "<style scoped>\n",
       "    .dataframe tbody tr th:only-of-type {\n",
       "        vertical-align: middle;\n",
       "    }\n",
       "\n",
       "    .dataframe tbody tr th {\n",
       "        vertical-align: top;\n",
       "    }\n",
       "\n",
       "    .dataframe thead th {\n",
       "        text-align: right;\n",
       "    }\n",
       "</style>\n",
       "<table border=\"1\" class=\"dataframe\">\n",
       "  <thead>\n",
       "    <tr style=\"text-align: right;\">\n",
       "      <th></th>\n",
       "      <th>Name</th>\n",
       "      <th>Age</th>\n",
       "      <th>Height</th>\n",
       "      <th>Date</th>\n",
       "    </tr>\n",
       "  </thead>\n",
       "  <tbody>\n",
       "    <tr>\n",
       "      <th>0</th>\n",
       "      <td>Alice</td>\n",
       "      <td>26</td>\n",
       "      <td>164.0</td>\n",
       "      <td>2020-01-01</td>\n",
       "    </tr>\n",
       "    <tr>\n",
       "      <th>1</th>\n",
       "      <td>Bob</td>\n",
       "      <td>31</td>\n",
       "      <td>145.0</td>\n",
       "      <td>2022-01-02</td>\n",
       "    </tr>\n",
       "    <tr>\n",
       "      <th>2</th>\n",
       "      <td>Charlie</td>\n",
       "      <td>36</td>\n",
       "      <td>0.0</td>\n",
       "      <td>2023-01-03</td>\n",
       "    </tr>\n",
       "  </tbody>\n",
       "</table>\n",
       "</div>"
      ],
      "text/plain": [
       "      Name  Age  Height       Date\n",
       "0    Alice   26   164.0 2020-01-01\n",
       "1      Bob   31   145.0 2022-01-02\n",
       "2  Charlie   36     0.0 2023-01-03"
      ]
     },
     "execution_count": 122,
     "metadata": {},
     "output_type": "execute_result"
    }
   ],
   "source": [
    "# Handling Missing Values (e.g., filling with mean)\n",
    "df['Height'].fillna(value=0, inplace=True)\n",
    "df"
   ]
  },
  {
   "cell_type": "code",
   "execution_count": 123,
   "id": "996db5d0",
   "metadata": {},
   "outputs": [
    {
     "name": "stdout",
     "output_type": "stream",
     "text": [
      "<class 'pandas.core.frame.DataFrame'>\n",
      "RangeIndex: 3 entries, 0 to 2\n",
      "Data columns (total 4 columns):\n",
      " #   Column  Non-Null Count  Dtype         \n",
      "---  ------  --------------  -----         \n",
      " 0   Name    3 non-null      object        \n",
      " 1   Age     3 non-null      int32         \n",
      " 2   Height  3 non-null      float64       \n",
      " 3   Date    3 non-null      datetime64[ns]\n",
      "dtypes: datetime64[ns](1), float64(1), int32(1), object(1)\n",
      "memory usage: 216.0+ bytes\n"
     ]
    }
   ],
   "source": [
    "# Data Type Conversion (e.g., changing age to integer)\n",
    "df['Age'] = df['Age'].astype(int)\n",
    "\n",
    "df.info()"
   ]
  },
  {
   "cell_type": "markdown",
   "id": "aeaf9e01",
   "metadata": {},
   "source": [
    "These are some basic examples of common data manipulation and preprocessing tasks using Pandas in Python. Pandas provides extensive functionality for data analysis and manipulation, making it a powerful tool for data scientists."
   ]
  },
  {
   "cell_type": "markdown",
   "id": "0e1df88e",
   "metadata": {},
   "source": [
    "__Data Generation__"
   ]
  },
  {
   "cell_type": "code",
   "execution_count": 113,
   "id": "5ba3088d",
   "metadata": {},
   "outputs": [],
   "source": [
    "import random"
   ]
  },
  {
   "cell_type": "code",
   "execution_count": 119,
   "id": "4805ceb2",
   "metadata": {},
   "outputs": [
    {
     "name": "stdout",
     "output_type": "stream",
     "text": [
      "['Grape', 'Grape', 'Orange', 'Banana', 'Apple', 'Banana', 'Orange', 'Orange', 'Orange', 'Orange']\n"
     ]
    }
   ],
   "source": [
    "size = range(10)\n",
    "fruits = ['Apple', 'Banana', 'Orange', 'Grape']\n",
    "\n",
    "# Generate a list of categorical values\n",
    "random_fruits = [random.choice(fruits) for _ in size]\n",
    "print(random_fruits)"
   ]
  },
  {
   "cell_type": "code",
   "execution_count": 121,
   "id": "bd4dd495",
   "metadata": {},
   "outputs": [
    {
     "name": "stdout",
     "output_type": "stream",
     "text": [
      "[37, 97, 80, 5, 60, 34, 1, 55, 18, 81]\n"
     ]
    }
   ],
   "source": [
    "# Generate a list of numeric values\n",
    "test_scores = [random.randint(0, 100) for _ in size]\n",
    "print(test_scores)"
   ]
  },
  {
   "cell_type": "markdown",
   "id": "dad4d41a",
   "metadata": {},
   "source": [
    "## 4.6 Data Visualization   📉📊📈"
   ]
  },
  {
   "cell_type": "code",
   "execution_count": 75,
   "id": "9d01a6a1",
   "metadata": {},
   "outputs": [
    {
     "data": {
      "text/html": [
       "<div>\n",
       "<style scoped>\n",
       "    .dataframe tbody tr th:only-of-type {\n",
       "        vertical-align: middle;\n",
       "    }\n",
       "\n",
       "    .dataframe tbody tr th {\n",
       "        vertical-align: top;\n",
       "    }\n",
       "\n",
       "    .dataframe thead th {\n",
       "        text-align: right;\n",
       "    }\n",
       "</style>\n",
       "<table border=\"1\" class=\"dataframe\">\n",
       "  <thead>\n",
       "    <tr style=\"text-align: right;\">\n",
       "      <th></th>\n",
       "      <th>Country</th>\n",
       "      <th>Region</th>\n",
       "      <th>Population</th>\n",
       "    </tr>\n",
       "  </thead>\n",
       "  <tbody>\n",
       "    <tr>\n",
       "      <th>0</th>\n",
       "      <td>Germany</td>\n",
       "      <td>Europe</td>\n",
       "      <td>234000</td>\n",
       "    </tr>\n",
       "    <tr>\n",
       "      <th>1</th>\n",
       "      <td>France</td>\n",
       "      <td>Europe</td>\n",
       "      <td>342000</td>\n",
       "    </tr>\n",
       "    <tr>\n",
       "      <th>2</th>\n",
       "      <td>USA</td>\n",
       "      <td>North America</td>\n",
       "      <td>123400</td>\n",
       "    </tr>\n",
       "    <tr>\n",
       "      <th>3</th>\n",
       "      <td>South Africa</td>\n",
       "      <td>Africa</td>\n",
       "      <td>400000</td>\n",
       "    </tr>\n",
       "    <tr>\n",
       "      <th>4</th>\n",
       "      <td>China</td>\n",
       "      <td>Asia</td>\n",
       "      <td>800000</td>\n",
       "    </tr>\n",
       "  </tbody>\n",
       "</table>\n",
       "</div>"
      ],
      "text/plain": [
       "        Country         Region  Population\n",
       "0       Germany         Europe      234000\n",
       "1        France         Europe      342000\n",
       "2           USA  North America      123400\n",
       "3  South Africa         Africa      400000\n",
       "4         China           Asia      800000"
      ]
     },
     "execution_count": 75,
     "metadata": {},
     "output_type": "execute_result"
    }
   ],
   "source": [
    "# Libraries\n",
    "import pandas as pd\n",
    "import matplotlib.pyplot as plt\n",
    "import plotly.express as px\n",
    "import seaborn as sns\n",
    "\n",
    "# Data\n",
    "data_dict = {\n",
    "    'Country': ['Germany', 'France', 'USA', 'South Africa', 'China', 'Russia'],\n",
    "    'Region': ['Europe', 'Europe', 'North America', 'Africa', 'Asia', 'Europe'],\n",
    "    'Population': [234000, 342000, 123400, 400_000, 800_000, 45000]\n",
    "}\n",
    "\n",
    "# Create a DataFrame\n",
    "df = pd.DataFrame(data=data_dict)\n",
    "df.head()"
   ]
  },
  {
   "cell_type": "markdown",
   "id": "c4e298c4",
   "metadata": {},
   "source": [
    "**[pandas](https://www.geeksforgeeks.org/introduction-to-pandas-python/)**"
   ]
  },
  {
   "cell_type": "code",
   "execution_count": 76,
   "id": "6402fe80",
   "metadata": {},
   "outputs": [
    {
     "data": {
      "image/png": "[encoded data removed]",
      "text/plain": [
       "<Figure size 432x288 with 1 Axes>"
      ]
     },
     "metadata": {
      "needs_background": "light"
     },
     "output_type": "display_data"
    }
   ],
   "source": [
    "(\n",
    "    df.sort_values(by='Population', ascending=True)\n",
    ").plot(\n",
    "    kind='bar', \n",
    "    x='Country', \n",
    "    y='Population'\n",
    ");"
   ]
  },
  {
   "cell_type": "markdown",
   "id": "744f2654",
   "metadata": {},
   "source": [
    "**[seaborn](https://www.geeksforgeeks.org/introduction-to-seaborn-python/)**"
   ]
  },
  {
   "cell_type": "code",
   "execution_count": 77,
   "id": "a81ea336",
   "metadata": {},
   "outputs": [
    {
     "data": {
      "image/png": "[encoded data removed]",
      "text/plain": [
       "<Figure size 432x288 with 1 Axes>"
      ]
     },
     "metadata": {
      "needs_background": "light"
     },
     "output_type": "display_data"
    }
   ],
   "source": [
    "sns.barplot(\n",
    "    data=df.sort_values(by='Population', ascending=True), \n",
    "    x='Country', \n",
    "    y='Population'\n",
    ");"
   ]
  },
  {
   "cell_type": "markdown",
   "id": "f9663c23",
   "metadata": {},
   "source": [
    "**Matplotlib:** Provides a quick way of data visualization mostly suitable on data understanding and preparation processes."
   ]
  },
  {
   "cell_type": "code",
   "execution_count": 78,
   "id": "1222864a",
   "metadata": {},
   "outputs": [
    {
     "data": {
      "image/png": "[encoded data removed]",
      "text/plain": [
       "<Figure size 432x288 with 1 Axes>"
      ]
     },
     "metadata": {
      "needs_background": "light"
     },
     "output_type": "display_data"
    }
   ],
   "source": [
    "plt.bar(data=df.sort_values(by='Population', ascending=True), x='Country', height='Population')\n",
    "plt.title('Population by Country')\n",
    "plt.show()"
   ]
  },
  {
   "cell_type": "markdown",
   "id": "12fc21c1",
   "metadata": {},
   "source": [
    "**Plotly**: Best suit when creating a Web Application as it incorporates interactive elements on the visuals for easy navigation and interpretation."
   ]
  },
  {
   "cell_type": "code",
   "execution_count": 79,
   "id": "c92b825c",
   "metadata": {},
   "outputs": [
    {
     "data": {
      "application/vnd.plotly.v1+json": {
       "config": {
        "plotlyServerURL": "https://plot.ly"
       },
       "data": [
        {
         "alignmentgroup": "True",
         "hovertemplate": "Country=%{x}<br>Population=%{y}<extra></extra>",
         "legendgroup": "",
         "marker": {
          "color": "#636efa",
          "pattern": {
           "shape": ""
          }
         },
         "name": "",
         "offsetgroup": "",
         "orientation": "v",
         "showlegend": false,
         "textposition": "auto",
         "type": "bar",
         "x": [
          "Germany",
          "France",
          "USA",
          "South Africa",
          "China",
          "Russia"
         ],
         "xaxis": "x",
         "y": [
          234000,
          342000,
          123400,
          400000,
          800000,
          45000
         ],
         "yaxis": "y"
        }
       ],
       "layout": {
        "barmode": "relative",
        "legend": {
         "tracegroupgap": 0
        },
        "template": {
         "data": {
          "bar": [
           {
            "error_x": {
             "color": "#2a3f5f"
            },
            "error_y": {
             "color": "#2a3f5f"
            },
            "marker": {
             "line": {
              "color": "#E5ECF6",
              "width": 0.5
             },
             "pattern": {
              "fillmode": "overlay",
              "size": 10,
              "solidity": 0.2
             }
            },
            "type": "bar"
           }
          ],
          "barpolar": [
           {
            "marker": {
             "line": {
              "color": "#E5ECF6",
              "width": 0.5
             },
             "pattern": {
              "fillmode": "overlay",
              "size": 10,
              "solidity": 0.2
             }
            },
            "type": "barpolar"
           }
          ],
          "carpet": [
           {
            "aaxis": {
             "endlinecolor": "#2a3f5f",
             "gridcolor": "white",
             "linecolor": "white",
             "minorgridcolor": "white",
             "startlinecolor": "#2a3f5f"
            },
            "baxis": {
             "endlinecolor": "#2a3f5f",
             "gridcolor": "white",
             "linecolor": "white",
             "minorgridcolor": "white",
             "startlinecolor": "#2a3f5f"
            },
            "type": "carpet"
           }
          ],
          "choropleth": [
           {
            "colorbar": {
             "outlinewidth": 0,
             "ticks": ""
            },
            "type": "choropleth"
           }
          ],
          "contour": [
           {
            "colorbar": {
             "outlinewidth": 0,
             "ticks": ""
            },
            "colorscale": [
             [
              0,
              "#0d0887"
             ],
             [
              0.1111111111111111,
              "#46039f"
             ],
             [
              0.2222222222222222,
              "#7201a8"
             ],
             [
              0.3333333333333333,
              "#9c179e"
             ],
             [
              0.4444444444444444,
              "#bd3786"
             ],
             [
              0.5555555555555556,
              "#d8576b"
             ],
             [
              0.6666666666666666,
              "#ed7953"
             ],
             [
              0.7777777777777778,
              "#fb9f3a"
             ],
             [
              0.8888888888888888,
              "#fdca26"
             ],
             [
              1,
              "#f0f921"
             ]
            ],
            "type": "contour"
           }
          ],
          "contourcarpet": [
           {
            "colorbar": {
             "outlinewidth": 0,
             "ticks": ""
            },
            "type": "contourcarpet"
           }
          ],
          "heatmap": [
           {
            "colorbar": {
             "outlinewidth": 0,
             "ticks": ""
            },
            "colorscale": [
             [
              0,
              "#0d0887"
             ],
             [
              0.1111111111111111,
              "#46039f"
             ],
             [
              0.2222222222222222,
              "#7201a8"
             ],
             [
              0.3333333333333333,
              "#9c179e"
             ],
             [
              0.4444444444444444,
              "#bd3786"
             ],
             [
              0.5555555555555556,
              "#d8576b"
             ],
             [
              0.6666666666666666,
              "#ed7953"
             ],
             [
              0.7777777777777778,
              "#fb9f3a"
             ],
             [
              0.8888888888888888,
              "#fdca26"
             ],
             [
              1,
              "#f0f921"
             ]
            ],
            "type": "heatmap"
           }
          ],
          "heatmapgl": [
           {
            "colorbar": {
             "outlinewidth": 0,
             "ticks": ""
            },
            "colorscale": [
             [
              0,
              "#0d0887"
             ],
             [
              0.1111111111111111,
              "#46039f"
             ],
             [
              0.2222222222222222,
              "#7201a8"
             ],
             [
              0.3333333333333333,
              "#9c179e"
             ],
             [
              0.4444444444444444,
              "#bd3786"
             ],
             [
              0.5555555555555556,
              "#d8576b"
             ],
             [
              0.6666666666666666,
              "#ed7953"
             ],
             [
              0.7777777777777778,
              "#fb9f3a"
             ],
             [
              0.8888888888888888,
              "#fdca26"
             ],
             [
              1,
              "#f0f921"
             ]
            ],
            "type": "heatmapgl"
           }
          ],
          "histogram": [
           {
            "marker": {
             "pattern": {
              "fillmode": "overlay",
              "size": 10,
              "solidity": 0.2
             }
            },
            "type": "histogram"
           }
          ],
          "histogram2d": [
           {
            "colorbar": {
             "outlinewidth": 0,
             "ticks": ""
            },
            "colorscale": [
             [
              0,
              "#0d0887"
             ],
             [
              0.1111111111111111,
              "#46039f"
             ],
             [
              0.2222222222222222,
              "#7201a8"
             ],
             [
              0.3333333333333333,
              "#9c179e"
             ],
             [
              0.4444444444444444,
              "#bd3786"
             ],
             [
              0.5555555555555556,
              "#d8576b"
             ],
             [
              0.6666666666666666,
              "#ed7953"
             ],
             [
              0.7777777777777778,
              "#fb9f3a"
             ],
             [
              0.8888888888888888,
              "#fdca26"
             ],
             [
              1,
              "#f0f921"
             ]
            ],
            "type": "histogram2d"
           }
          ],
          "histogram2dcontour": [
           {
            "colorbar": {
             "outlinewidth": 0,
             "ticks": ""
            },
            "colorscale": [
             [
              0,
              "#0d0887"
             ],
             [
              0.1111111111111111,
              "#46039f"
             ],
             [
              0.2222222222222222,
              "#7201a8"
             ],
             [
              0.3333333333333333,
              "#9c179e"
             ],
             [
              0.4444444444444444,
              "#bd3786"
             ],
             [
              0.5555555555555556,
              "#d8576b"
             ],
             [
              0.6666666666666666,
              "#ed7953"
             ],
             [
              0.7777777777777778,
              "#fb9f3a"
             ],
             [
              0.8888888888888888,
              "#fdca26"
             ],
             [
              1,
              "#f0f921"
             ]
            ],
            "type": "histogram2dcontour"
           }
          ],
          "mesh3d": [
           {
            "colorbar": {
             "outlinewidth": 0,
             "ticks": ""
            },
            "type": "mesh3d"
           }
          ],
          "parcoords": [
           {
            "line": {
             "colorbar": {
              "outlinewidth": 0,
              "ticks": ""
             }
            },
            "type": "parcoords"
           }
          ],
          "pie": [
           {
            "automargin": true,
            "type": "pie"
           }
          ],
          "scatter": [
           {
            "fillpattern": {
             "fillmode": "overlay",
             "size": 10,
             "solidity": 0.2
            },
            "type": "scatter"
           }
          ],
          "scatter3d": [
           {
            "line": {
             "colorbar": {
              "outlinewidth": 0,
              "ticks": ""
             }
            },
            "marker": {
             "colorbar": {
              "outlinewidth": 0,
              "ticks": ""
             }
            },
            "type": "scatter3d"
           }
          ],
          "scattercarpet": [
           {
            "marker": {
             "colorbar": {
              "outlinewidth": 0,
              "ticks": ""
             }
            },
            "type": "scattercarpet"
           }
          ],
          "scattergeo": [
           {
            "marker": {
             "colorbar": {
              "outlinewidth": 0,
              "ticks": ""
             }
            },
            "type": "scattergeo"
           }
          ],
          "scattergl": [
           {
            "marker": {
             "colorbar": {
              "outlinewidth": 0,
              "ticks": ""
             }
            },
            "type": "scattergl"
           }
          ],
          "scattermapbox": [
           {
            "marker": {
             "colorbar": {
              "outlinewidth": 0,
              "ticks": ""
             }
            },
            "type": "scattermapbox"
           }
          ],
          "scatterpolar": [
           {
            "marker": {
             "colorbar": {
              "outlinewidth": 0,
              "ticks": ""
             }
            },
            "type": "scatterpolar"
           }
          ],
          "scatterpolargl": [
           {
            "marker": {
             "colorbar": {
              "outlinewidth": 0,
              "ticks": ""
             }
            },
            "type": "scatterpolargl"
           }
          ],
          "scatterternary": [
           {
            "marker": {
             "colorbar": {
              "outlinewidth": 0,
              "ticks": ""
             }
            },
            "type": "scatterternary"
           }
          ],
          "surface": [
           {
            "colorbar": {
             "outlinewidth": 0,
             "ticks": ""
            },
            "colorscale": [
             [
              0,
              "#0d0887"
             ],
             [
              0.1111111111111111,
              "#46039f"
             ],
             [
              0.2222222222222222,
              "#7201a8"
             ],
             [
              0.3333333333333333,
              "#9c179e"
             ],
             [
              0.4444444444444444,
              "#bd3786"
             ],
             [
              0.5555555555555556,
              "#d8576b"
             ],
             [
              0.6666666666666666,
              "#ed7953"
             ],
             [
              0.7777777777777778,
              "#fb9f3a"
             ],
             [
              0.8888888888888888,
              "#fdca26"
             ],
             [
              1,
              "#f0f921"
             ]
            ],
            "type": "surface"
           }
          ],
          "table": [
           {
            "cells": {
             "fill": {
              "color": "#EBF0F8"
             },
             "line": {
              "color": "white"
             }
            },
            "header": {
             "fill": {
              "color": "#C8D4E3"
             },
             "line": {
              "color": "white"
             }
            },
            "type": "table"
           }
          ]
         },
         "layout": {
          "annotationdefaults": {
           "arrowcolor": "#2a3f5f",
           "arrowhead": 0,
           "arrowwidth": 1
          },
          "autotypenumbers": "strict",
          "coloraxis": {
           "colorbar": {
            "outlinewidth": 0,
            "ticks": ""
           }
          },
          "colorscale": {
           "diverging": [
            [
             0,
             "#8e0152"
            ],
            [
             0.1,
             "#c51b7d"
            ],
            [
             0.2,
             "#de77ae"
            ],
            [
             0.3,
             "#f1b6da"
            ],
            [
             0.4,
             "#fde0ef"
            ],
            [
             0.5,
             "#f7f7f7"
            ],
            [
             0.6,
             "#e6f5d0"
            ],
            [
             0.7,
             "#b8e186"
            ],
            [
             0.8,
             "#7fbc41"
            ],
            [
             0.9,
             "#4d9221"
            ],
            [
             1,
             "#276419"
            ]
           ],
           "sequential": [
            [
             0,
             "#0d0887"
            ],
            [
             0.1111111111111111,
             "#46039f"
            ],
            [
             0.2222222222222222,
             "#7201a8"
            ],
            [
             0.3333333333333333,
             "#9c179e"
            ],
            [
             0.4444444444444444,
             "#bd3786"
            ],
            [
             0.5555555555555556,
             "#d8576b"
            ],
            [
             0.6666666666666666,
             "#ed7953"
            ],
            [
             0.7777777777777778,
             "#fb9f3a"
            ],
            [
             0.8888888888888888,
             "#fdca26"
            ],
            [
             1,
             "#f0f921"
            ]
           ],
           "sequentialminus": [
            [
             0,
             "#0d0887"
            ],
            [
             0.1111111111111111,
             "#46039f"
            ],
            [
             0.2222222222222222,
             "#7201a8"
            ],
            [
             0.3333333333333333,
             "#9c179e"
            ],
            [
             0.4444444444444444,
             "#bd3786"
            ],
            [
             0.5555555555555556,
             "#d8576b"
            ],
            [
             0.6666666666666666,
             "#ed7953"
            ],
            [
             0.7777777777777778,
             "#fb9f3a"
            ],
            [
             0.8888888888888888,
             "#fdca26"
            ],
            [
             1,
             "#f0f921"
            ]
           ]
          },
          "colorway": [
           "#636efa",
           "#EF553B",
           "#00cc96",
           "#ab63fa",
           "#FFA15A",
           "#19d3f3",
           "#FF6692",
           "#B6E880",
           "#FF97FF",
           "#FECB52"
          ],
          "font": {
           "color": "#2a3f5f"
          },
          "geo": {
           "bgcolor": "white",
           "lakecolor": "white",
           "landcolor": "#E5ECF6",
           "showlakes": true,
           "showland": true,
           "subunitcolor": "white"
          },
          "hoverlabel": {
           "align": "left"
          },
          "hovermode": "closest",
          "mapbox": {
           "style": "light"
          },
          "paper_bgcolor": "white",
          "plot_bgcolor": "#E5ECF6",
          "polar": {
           "angularaxis": {
            "gridcolor": "white",
            "linecolor": "white",
            "ticks": ""
           },
           "bgcolor": "#E5ECF6",
           "radialaxis": {
            "gridcolor": "white",
            "linecolor": "white",
            "ticks": ""
           }
          },
          "scene": {
           "xaxis": {
            "backgroundcolor": "#E5ECF6",
            "gridcolor": "white",
            "gridwidth": 2,
            "linecolor": "white",
            "showbackground": true,
            "ticks": "",
            "zerolinecolor": "white"
           },
           "yaxis": {
            "backgroundcolor": "#E5ECF6",
            "gridcolor": "white",
            "gridwidth": 2,
            "linecolor": "white",
            "showbackground": true,
            "ticks": "",
            "zerolinecolor": "white"
           },
           "zaxis": {
            "backgroundcolor": "#E5ECF6",
            "gridcolor": "white",
            "gridwidth": 2,
            "linecolor": "white",
            "showbackground": true,
            "ticks": "",
            "zerolinecolor": "white"
           }
          },
          "shapedefaults": {
           "line": {
            "color": "#2a3f5f"
           }
          },
          "ternary": {
           "aaxis": {
            "gridcolor": "white",
            "linecolor": "white",
            "ticks": ""
           },
           "baxis": {
            "gridcolor": "white",
            "linecolor": "white",
            "ticks": ""
           },
           "bgcolor": "#E5ECF6",
           "caxis": {
            "gridcolor": "white",
            "linecolor": "white",
            "ticks": ""
           }
          },
          "title": {
           "x": 0.05
          },
          "xaxis": {
           "automargin": true,
           "gridcolor": "white",
           "linecolor": "white",
           "ticks": "",
           "title": {
            "standoff": 15
           },
           "zerolinecolor": "white",
           "zerolinewidth": 2
          },
          "yaxis": {
           "automargin": true,
           "gridcolor": "white",
           "linecolor": "white",
           "ticks": "",
           "title": {
            "standoff": 15
           },
           "zerolinecolor": "white",
           "zerolinewidth": 2
          }
         }
        },
        "title": {
         "text": "Population by Country"
        },
        "xaxis": {
         "anchor": "y",
         "domain": [
          0,
          1
         ],
         "title": {
          "text": ""
         }
        },
        "yaxis": {
         "anchor": "x",
         "domain": [
          0,
          1
         ],
         "title": {
          "text": "Population"
         }
        }
       }
      },
      "text/html": [
       "<div>                            <div id=\"cdfedd00-4896-4cf5-b85b-8029dec8f2d5\" class=\"plotly-graph-div\" style=\"height:525px; width:100%;\"></div>            <script type=\"text/javascript\">                require([\"plotly\"], function(Plotly) {                    window.PLOTLYENV=window.PLOTLYENV || {};                                    if (document.getElementById(\"cdfedd00-4896-4cf5-b85b-8029dec8f2d5\")) {                    Plotly.newPlot(                        \"cdfedd00-4896-4cf5-b85b-8029dec8f2d5\",                        [{\"alignmentgroup\":\"True\",\"hovertemplate\":\"Country=%{x}\\u003cbr\\u003ePopulation=%{y}\\u003cextra\\u003e\\u003c\\u002fextra\\u003e\",\"legendgroup\":\"\",\"marker\":{\"color\":\"#636efa\",\"pattern\":{\"shape\":\"\"}},\"name\":\"\",\"offsetgroup\":\"\",\"orientation\":\"v\",\"showlegend\":false,\"textposition\":\"auto\",\"x\":[\"Germany\",\"France\",\"USA\",\"South Africa\",\"China\",\"Russia\"],\"xaxis\":\"x\",\"y\":[234000,342000,123400,400000,800000,45000],\"yaxis\":\"y\",\"type\":\"bar\"}],                        {\"template\":{\"data\":{\"histogram2dcontour\":[{\"type\":\"histogram2dcontour\",\"colorbar\":{\"outlinewidth\":0,\"ticks\":\"\"},\"colorscale\":[[0.0,\"#0d0887\"],[0.1111111111111111,\"#46039f\"],[0.2222222222222222,\"#7201a8\"],[0.3333333333333333,\"#9c179e\"],[0.4444444444444444,\"#bd3786\"],[0.5555555555555556,\"#d8576b\"],[0.6666666666666666,\"#ed7953\"],[0.7777777777777778,\"#fb9f3a\"],[0.8888888888888888,\"#fdca26\"],[1.0,\"#f0f921\"]]}],\"choropleth\":[{\"type\":\"choropleth\",\"colorbar\":{\"outlinewidth\":0,\"ticks\":\"\"}}],\"histogram2d\":[{\"type\":\"histogram2d\",\"colorbar\":{\"outlinewidth\":0,\"ticks\":\"\"},\"colorscale\":[[0.0,\"#0d0887\"],[0.1111111111111111,\"#46039f\"],[0.2222222222222222,\"#7201a8\"],[0.3333333333333333,\"#9c179e\"],[0.4444444444444444,\"#bd3786\"],[0.5555555555555556,\"#d8576b\"],[0.6666666666666666,\"#ed7953\"],[0.7777777777777778,\"#fb9f3a\"],[0.8888888888888888,\"#fdca26\"],[1.0,\"#f0f921\"]]}],\"heatmap\":[{\"type\":\"heatmap\",\"colorbar\":{\"outlinewidth\":0,\"ticks\":\"\"},\"colorscale\":[[0.0,\"#0d0887\"],[0.1111111111111111,\"#46039f\"],[0.2222222222222222,\"#7201a8\"],[0.3333333333333333,\"#9c179e\"],[0.4444444444444444,\"#bd3786\"],[0.5555555555555556,\"#d8576b\"],[0.6666666666666666,\"#ed7953\"],[0.7777777777777778,\"#fb9f3a\"],[0.8888888888888888,\"#fdca26\"],[1.0,\"#f0f921\"]]}],\"heatmapgl\":[{\"type\":\"heatmapgl\",\"colorbar\":{\"outlinewidth\":0,\"ticks\":\"\"},\"colorscale\":[[0.0,\"#0d0887\"],[0.1111111111111111,\"#46039f\"],[0.2222222222222222,\"#7201a8\"],[0.3333333333333333,\"#9c179e\"],[0.4444444444444444,\"#bd3786\"],[0.5555555555555556,\"#d8576b\"],[0.6666666666666666,\"#ed7953\"],[0.7777777777777778,\"#fb9f3a\"],[0.8888888888888888,\"#fdca26\"],[1.0,\"#f0f921\"]]}],\"contourcarpet\":[{\"type\":\"contourcarpet\",\"colorbar\":{\"outlinewidth\":0,\"ticks\":\"\"}}],\"contour\":[{\"type\":\"contour\",\"colorbar\":{\"outlinewidth\":0,\"ticks\":\"\"},\"colorscale\":[[0.0,\"#0d0887\"],[0.1111111111111111,\"#46039f\"],[0.2222222222222222,\"#7201a8\"],[0.3333333333333333,\"#9c179e\"],[0.4444444444444444,\"#bd3786\"],[0.5555555555555556,\"#d8576b\"],[0.6666666666666666,\"#ed7953\"],[0.7777777777777778,\"#fb9f3a\"],[0.8888888888888888,\"#fdca26\"],[1.0,\"#f0f921\"]]}],\"surface\":[{\"type\":\"surface\",\"colorbar\":{\"outlinewidth\":0,\"ticks\":\"\"},\"colorscale\":[[0.0,\"#0d0887\"],[0.1111111111111111,\"#46039f\"],[0.2222222222222222,\"#7201a8\"],[0.3333333333333333,\"#9c179e\"],[0.4444444444444444,\"#bd3786\"],[0.5555555555555556,\"#d8576b\"],[0.6666666666666666,\"#ed7953\"],[0.7777777777777778,\"#fb9f3a\"],[0.8888888888888888,\"#fdca26\"],[1.0,\"#f0f921\"]]}],\"mesh3d\":[{\"type\":\"mesh3d\",\"colorbar\":{\"outlinewidth\":0,\"ticks\":\"\"}}],\"scatter\":[{\"fillpattern\":{\"fillmode\":\"overlay\",\"size\":10,\"solidity\":0.2},\"type\":\"scatter\"}],\"parcoords\":[{\"type\":\"parcoords\",\"line\":{\"colorbar\":{\"outlinewidth\":0,\"ticks\":\"\"}}}],\"scatterpolargl\":[{\"type\":\"scatterpolargl\",\"marker\":{\"colorbar\":{\"outlinewidth\":0,\"ticks\":\"\"}}}],\"bar\":[{\"error_x\":{\"color\":\"#2a3f5f\"},\"error_y\":{\"color\":\"#2a3f5f\"},\"marker\":{\"line\":{\"color\":\"#E5ECF6\",\"width\":0.5},\"pattern\":{\"fillmode\":\"overlay\",\"size\":10,\"solidity\":0.2}},\"type\":\"bar\"}],\"scattergeo\":[{\"type\":\"scattergeo\",\"marker\":{\"colorbar\":{\"outlinewidth\":0,\"ticks\":\"\"}}}],\"scatterpolar\":[{\"type\":\"scatterpolar\",\"marker\":{\"colorbar\":{\"outlinewidth\":0,\"ticks\":\"\"}}}],\"histogram\":[{\"marker\":{\"pattern\":{\"fillmode\":\"overlay\",\"size\":10,\"solidity\":0.2}},\"type\":\"histogram\"}],\"scattergl\":[{\"type\":\"scattergl\",\"marker\":{\"colorbar\":{\"outlinewidth\":0,\"ticks\":\"\"}}}],\"scatter3d\":[{\"type\":\"scatter3d\",\"line\":{\"colorbar\":{\"outlinewidth\":0,\"ticks\":\"\"}},\"marker\":{\"colorbar\":{\"outlinewidth\":0,\"ticks\":\"\"}}}],\"scattermapbox\":[{\"type\":\"scattermapbox\",\"marker\":{\"colorbar\":{\"outlinewidth\":0,\"ticks\":\"\"}}}],\"scatterternary\":[{\"type\":\"scatterternary\",\"marker\":{\"colorbar\":{\"outlinewidth\":0,\"ticks\":\"\"}}}],\"scattercarpet\":[{\"type\":\"scattercarpet\",\"marker\":{\"colorbar\":{\"outlinewidth\":0,\"ticks\":\"\"}}}],\"carpet\":[{\"aaxis\":{\"endlinecolor\":\"#2a3f5f\",\"gridcolor\":\"white\",\"linecolor\":\"white\",\"minorgridcolor\":\"white\",\"startlinecolor\":\"#2a3f5f\"},\"baxis\":{\"endlinecolor\":\"#2a3f5f\",\"gridcolor\":\"white\",\"linecolor\":\"white\",\"minorgridcolor\":\"white\",\"startlinecolor\":\"#2a3f5f\"},\"type\":\"carpet\"}],\"table\":[{\"cells\":{\"fill\":{\"color\":\"#EBF0F8\"},\"line\":{\"color\":\"white\"}},\"header\":{\"fill\":{\"color\":\"#C8D4E3\"},\"line\":{\"color\":\"white\"}},\"type\":\"table\"}],\"barpolar\":[{\"marker\":{\"line\":{\"color\":\"#E5ECF6\",\"width\":0.5},\"pattern\":{\"fillmode\":\"overlay\",\"size\":10,\"solidity\":0.2}},\"type\":\"barpolar\"}],\"pie\":[{\"automargin\":true,\"type\":\"pie\"}]},\"layout\":{\"autotypenumbers\":\"strict\",\"colorway\":[\"#636efa\",\"#EF553B\",\"#00cc96\",\"#ab63fa\",\"#FFA15A\",\"#19d3f3\",\"#FF6692\",\"#B6E880\",\"#FF97FF\",\"#FECB52\"],\"font\":{\"color\":\"#2a3f5f\"},\"hovermode\":\"closest\",\"hoverlabel\":{\"align\":\"left\"},\"paper_bgcolor\":\"white\",\"plot_bgcolor\":\"#E5ECF6\",\"polar\":{\"bgcolor\":\"#E5ECF6\",\"angularaxis\":{\"gridcolor\":\"white\",\"linecolor\":\"white\",\"ticks\":\"\"},\"radialaxis\":{\"gridcolor\":\"white\",\"linecolor\":\"white\",\"ticks\":\"\"}},\"ternary\":{\"bgcolor\":\"#E5ECF6\",\"aaxis\":{\"gridcolor\":\"white\",\"linecolor\":\"white\",\"ticks\":\"\"},\"baxis\":{\"gridcolor\":\"white\",\"linecolor\":\"white\",\"ticks\":\"\"},\"caxis\":{\"gridcolor\":\"white\",\"linecolor\":\"white\",\"ticks\":\"\"}},\"coloraxis\":{\"colorbar\":{\"outlinewidth\":0,\"ticks\":\"\"}},\"colorscale\":{\"sequential\":[[0.0,\"#0d0887\"],[0.1111111111111111,\"#46039f\"],[0.2222222222222222,\"#7201a8\"],[0.3333333333333333,\"#9c179e\"],[0.4444444444444444,\"#bd3786\"],[0.5555555555555556,\"#d8576b\"],[0.6666666666666666,\"#ed7953\"],[0.7777777777777778,\"#fb9f3a\"],[0.8888888888888888,\"#fdca26\"],[1.0,\"#f0f921\"]],\"sequentialminus\":[[0.0,\"#0d0887\"],[0.1111111111111111,\"#46039f\"],[0.2222222222222222,\"#7201a8\"],[0.3333333333333333,\"#9c179e\"],[0.4444444444444444,\"#bd3786\"],[0.5555555555555556,\"#d8576b\"],[0.6666666666666666,\"#ed7953\"],[0.7777777777777778,\"#fb9f3a\"],[0.8888888888888888,\"#fdca26\"],[1.0,\"#f0f921\"]],\"diverging\":[[0,\"#8e0152\"],[0.1,\"#c51b7d\"],[0.2,\"#de77ae\"],[0.3,\"#f1b6da\"],[0.4,\"#fde0ef\"],[0.5,\"#f7f7f7\"],[0.6,\"#e6f5d0\"],[0.7,\"#b8e186\"],[0.8,\"#7fbc41\"],[0.9,\"#4d9221\"],[1,\"#276419\"]]},\"xaxis\":{\"gridcolor\":\"white\",\"linecolor\":\"white\",\"ticks\":\"\",\"title\":{\"standoff\":15},\"zerolinecolor\":\"white\",\"automargin\":true,\"zerolinewidth\":2},\"yaxis\":{\"gridcolor\":\"white\",\"linecolor\":\"white\",\"ticks\":\"\",\"title\":{\"standoff\":15},\"zerolinecolor\":\"white\",\"automargin\":true,\"zerolinewidth\":2},\"scene\":{\"xaxis\":{\"backgroundcolor\":\"#E5ECF6\",\"gridcolor\":\"white\",\"linecolor\":\"white\",\"showbackground\":true,\"ticks\":\"\",\"zerolinecolor\":\"white\",\"gridwidth\":2},\"yaxis\":{\"backgroundcolor\":\"#E5ECF6\",\"gridcolor\":\"white\",\"linecolor\":\"white\",\"showbackground\":true,\"ticks\":\"\",\"zerolinecolor\":\"white\",\"gridwidth\":2},\"zaxis\":{\"backgroundcolor\":\"#E5ECF6\",\"gridcolor\":\"white\",\"linecolor\":\"white\",\"showbackground\":true,\"ticks\":\"\",\"zerolinecolor\":\"white\",\"gridwidth\":2}},\"shapedefaults\":{\"line\":{\"color\":\"#2a3f5f\"}},\"annotationdefaults\":{\"arrowcolor\":\"#2a3f5f\",\"arrowhead\":0,\"arrowwidth\":1},\"geo\":{\"bgcolor\":\"white\",\"landcolor\":\"#E5ECF6\",\"subunitcolor\":\"white\",\"showland\":true,\"showlakes\":true,\"lakecolor\":\"white\"},\"title\":{\"x\":0.05},\"mapbox\":{\"style\":\"light\"}}},\"xaxis\":{\"anchor\":\"y\",\"domain\":[0.0,1.0],\"title\":{\"text\":\"\"}},\"yaxis\":{\"anchor\":\"x\",\"domain\":[0.0,1.0],\"title\":{\"text\":\"Population\"}},\"legend\":{\"tracegroupgap\":0},\"title\":{\"text\":\"Population by Country\"},\"barmode\":\"relative\"},                        {\"responsive\": true}                    ).then(function(){\n",
       "                            \n",
       "var gd = document.getElementById('cdfedd00-4896-4cf5-b85b-8029dec8f2d5');\n",
       "var x = new MutationObserver(function (mutations, observer) {{\n",
       "        var display = window.getComputedStyle(gd).display;\n",
       "        if (!display || display === 'none') {{\n",
       "            console.log([gd, 'removed!']);\n",
       "            Plotly.purge(gd);\n",
       "            observer.disconnect();\n",
       "        }}\n",
       "}});\n",
       "\n",
       "// Listen for the removal of the full notebook cells\n",
       "var notebookContainer = gd.closest('#notebook-container');\n",
       "if (notebookContainer) {{\n",
       "    x.observe(notebookContainer, {childList: true});\n",
       "}}\n",
       "\n",
       "// Listen for the clearing of the current output cell\n",
       "var outputEl = gd.closest('.output');\n",
       "if (outputEl) {{\n",
       "    x.observe(outputEl, {childList: true});\n",
       "}}\n",
       "\n",
       "                        })                };                });            </script>        </div>"
      ]
     },
     "metadata": {},
     "output_type": "display_data"
    }
   ],
   "source": [
    "fig = px.bar(\n",
    "    data_frame=df, \n",
    "    x='Country', \n",
    "    y='Population', \n",
    "    title='Population by Country'\n",
    ")\n",
    "\n",
    "# Add annotations\n",
    "fig.update_layout(xaxis_title='', yaxis_title='Population')\n",
    "fig.show()"
   ]
  },
  {
   "cell_type": "markdown",
   "id": "a9c5f49c",
   "metadata": {},
   "source": [
    "__Practice Questions:__"
   ]
  },
  {
   "cell_type": "markdown",
   "id": "16abf944",
   "metadata": {},
   "source": [
    "1. Create a scatter plot with randomly generated x and y values.\n",
    "\n",
    "2. Plot multiple lines on the same chart with different colors and markers.\n",
    "\n",
    "3. Customize the appearance of the plot by adding a legend and changin the line style.\n",
    "\n",
    "4. Generate a correlation matrix from a DataFrame and plot it as a heatmap."
   ]
  },
  {
   "cell_type": "markdown",
   "id": "a94c9dc9",
   "metadata": {},
   "source": [
    "## 4.7 Machine Learning Foundation      📈⚙📊⚙"
   ]
  },
  {
   "cell_type": "markdown",
   "id": "f432146f",
   "metadata": {},
   "source": [
    "### Introduction to Scikit-learn\n",
    "\n",
    "**Objective:** \n",
    "Understand the difference between `regression` and `classification`, and how to use `Scikit-learn` to implement basic supervised learning algorithms such as linear regression and logistic regression.\n",
    "\n",
    "**Supervised learning:** \n",
    "It is a type of machine learning where the algorithm learns from labeled training data to make predictions or decisions without human intervention. \n",
    "\n",
    "It involves two main types: `classification` (predicting categories or labels) and `regression` (predicting numerical values). In this example, we'll focus on regression, specifically linear regression.\n",
    "\n",
    "### Regression   ✅\n",
    "\n",
    "\n",
    "**Linear Regression with Scikit-Learn**\n",
    "\n",
    "Linear regression is a supervised learning algorithm used for predicting a continuous numerical output (dependent variable) based on one or more input features (independent variables) with a linear relationship. `Scikit-Learn` is a popular Python library for machine learning, including regression tasks.\n",
    "\n",
    "Here's an example code using `Scikit-Learn` to implement basic linear regression:"
   ]
  },
  {
   "cell_type": "markdown",
   "id": "b0a65ef4",
   "metadata": {},
   "source": [
    "**We import the necessary libraries, including NumPy for data manipulation and Matplotlib for visualization.**"
   ]
  },
  {
   "cell_type": "markdown",
   "id": "ab1f72c9",
   "metadata": {},
   "source": [
    "The code below demonstrates the basic implementation of linear regression for supervised learning using Scikit-Learn."
   ]
  },
  {
   "cell_type": "code",
   "execution_count": 80,
   "id": "616e151a",
   "metadata": {},
   "outputs": [],
   "source": [
    "# Import necessary libraries\n",
    "import numpy as np\n",
    "import matplotlib.pyplot as plt\n",
    "from sklearn.linear_model import LinearRegression\n",
    "from sklearn.model_selection import train_test_split\n",
    "from sklearn.metrics import mean_squared_error, r2_score"
   ]
  },
  {
   "cell_type": "markdown",
   "id": "60a7f96b",
   "metadata": {},
   "source": [
    "**We generate synthetic data with a linear relationship and some random noise.**"
   ]
  },
  {
   "cell_type": "code",
   "execution_count": 81,
   "id": "da804d45",
   "metadata": {},
   "outputs": [],
   "source": [
    "# Generate some sample data\n",
    "np.random.seed(0)\n",
    "X = np.random.rand(100, 1)  # Input feature\n",
    "y = 2 * X + 1 + 0.1 * np.random.randn(100, 1)  # True linear relationship with noise"
   ]
  },
  {
   "cell_type": "markdown",
   "id": "575663ad",
   "metadata": {},
   "source": [
    "**We split the data into training and testing sets to evaluate the model's performance.**"
   ]
  },
  {
   "cell_type": "code",
   "execution_count": 82,
   "id": "394e058f",
   "metadata": {},
   "outputs": [],
   "source": [
    "# Split the data into training (80%) and testing sets (20%)\n",
    "X_train, X_test, y_train, y_test = train_test_split(X, y, test_size=0.2, random_state=42)"
   ]
  },
  {
   "cell_type": "markdown",
   "id": "1189e2dd",
   "metadata": {},
   "source": [
    "**We create a linear regression model using LinearRegression from Scikit-Learn.**"
   ]
  },
  {
   "cell_type": "code",
   "execution_count": 83,
   "id": "8579385b",
   "metadata": {},
   "outputs": [],
   "source": [
    "# Create a linear regression model\n",
    "model = LinearRegression()"
   ]
  },
  {
   "cell_type": "markdown",
   "id": "293e7232",
   "metadata": {},
   "source": [
    "**We fit the model to the training data using model.fit.**"
   ]
  },
  {
   "cell_type": "code",
   "execution_count": 84,
   "id": "1cb57217",
   "metadata": {},
   "outputs": [
    {
     "data": {
      "text/html": [
       "<style>#sk-container-id-2 {color: black;background-color: white;}#sk-container-id-2 pre{padding: 0;}#sk-container-id-2 div.sk-toggleable {background-color: white;}#sk-container-id-2 label.sk-toggleable__label {cursor: pointer;display: block;width: 100%;margin-bottom: 0;padding: 0.3em;box-sizing: border-box;text-align: center;}#sk-container-id-2 label.sk-toggleable__label-arrow:before {content: \"▸\";float: left;margin-right: 0.25em;color: #696969;}#sk-container-id-2 label.sk-toggleable__label-arrow:hover:before {color: black;}#sk-container-id-2 div.sk-estimator:hover label.sk-toggleable__label-arrow:before {color: black;}#sk-container-id-2 div.sk-toggleable__content {max-height: 0;max-width: 0;overflow: hidden;text-align: left;background-color: #f0f8ff;}#sk-container-id-2 div.sk-toggleable__content pre {margin: 0.2em;color: black;border-radius: 0.25em;background-color: #f0f8ff;}#sk-container-id-2 input.sk-toggleable__control:checked~div.sk-toggleable__content {max-height: 200px;max-width: 100%;overflow: auto;}#sk-container-id-2 input.sk-toggleable__control:checked~label.sk-toggleable__label-arrow:before {content: \"▾\";}#sk-container-id-2 div.sk-estimator input.sk-toggleable__control:checked~label.sk-toggleable__label {background-color: #d4ebff;}#sk-container-id-2 div.sk-label input.sk-toggleable__control:checked~label.sk-toggleable__label {background-color: #d4ebff;}#sk-container-id-2 input.sk-hidden--visually {border: 0;clip: rect(1px 1px 1px 1px);clip: rect(1px, 1px, 1px, 1px);height: 1px;margin: -1px;overflow: hidden;padding: 0;position: absolute;width: 1px;}#sk-container-id-2 div.sk-estimator {font-family: monospace;background-color: #f0f8ff;border: 1px dotted black;border-radius: 0.25em;box-sizing: border-box;margin-bottom: 0.5em;}#sk-container-id-2 div.sk-estimator:hover {background-color: #d4ebff;}#sk-container-id-2 div.sk-parallel-item::after {content: \"\";width: 100%;border-bottom: 1px solid gray;flex-grow: 1;}#sk-container-id-2 div.sk-label:hover label.sk-toggleable__label {background-color: #d4ebff;}#sk-container-id-2 div.sk-serial::before {content: \"\";position: absolute;border-left: 1px solid gray;box-sizing: border-box;top: 0;bottom: 0;left: 50%;z-index: 0;}#sk-container-id-2 div.sk-serial {display: flex;flex-direction: column;align-items: center;background-color: white;padding-right: 0.2em;padding-left: 0.2em;position: relative;}#sk-container-id-2 div.sk-item {position: relative;z-index: 1;}#sk-container-id-2 div.sk-parallel {display: flex;align-items: stretch;justify-content: center;background-color: white;position: relative;}#sk-container-id-2 div.sk-item::before, #sk-container-id-2 div.sk-parallel-item::before {content: \"\";position: absolute;border-left: 1px solid gray;box-sizing: border-box;top: 0;bottom: 0;left: 50%;z-index: -1;}#sk-container-id-2 div.sk-parallel-item {display: flex;flex-direction: column;z-index: 1;position: relative;background-color: white;}#sk-container-id-2 div.sk-parallel-item:first-child::after {align-self: flex-end;width: 50%;}#sk-container-id-2 div.sk-parallel-item:last-child::after {align-self: flex-start;width: 50%;}#sk-container-id-2 div.sk-parallel-item:only-child::after {width: 0;}#sk-container-id-2 div.sk-dashed-wrapped {border: 1px dashed gray;margin: 0 0.4em 0.5em 0.4em;box-sizing: border-box;padding-bottom: 0.4em;background-color: white;}#sk-container-id-2 div.sk-label label {font-family: monospace;font-weight: bold;display: inline-block;line-height: 1.2em;}#sk-container-id-2 div.sk-label-container {text-align: center;}#sk-container-id-2 div.sk-container {/* jupyter's `normalize.less` sets `[hidden] { display: none; }` but bootstrap.min.css set `[hidden] { display: none !important; }` so we also need the `!important` here to be able to override the default hidden behavior on the sphinx rendered scikit-learn.org. See: https://github.com/scikit-learn/scikit-learn/issues/21755 */display: inline-block !important;position: relative;}#sk-container-id-2 div.sk-text-repr-fallback {display: none;}</style><div id=\"sk-container-id-2\" class=\"sk-top-container\"><div class=\"sk-text-repr-fallback\"><pre>LinearRegression()</pre><b>In a Jupyter environment, please rerun this cell to show the HTML representation or trust the notebook. <br />On GitHub, the HTML representation is unable to render, please try loading this page with nbviewer.org.</b></div><div class=\"sk-container\" hidden><div class=\"sk-item\"><div class=\"sk-estimator sk-toggleable\"><input class=\"sk-toggleable__control sk-hidden--visually\" id=\"sk-estimator-id-2\" type=\"checkbox\" checked><label for=\"sk-estimator-id-2\" class=\"sk-toggleable__label sk-toggleable__label-arrow\">LinearRegression</label><div class=\"sk-toggleable__content\"><pre>LinearRegression()</pre></div></div></div></div></div>"
      ],
      "text/plain": [
       "LinearRegression()"
      ]
     },
     "execution_count": 84,
     "metadata": {},
     "output_type": "execute_result"
    }
   ],
   "source": [
    "# Fit the model to the training data\n",
    "model.fit(X_train, y_train)"
   ]
  },
  {
   "cell_type": "markdown",
   "id": "b3f7ce30",
   "metadata": {},
   "source": [
    "**We make predictions on the test data with model.predict.**"
   ]
  },
  {
   "cell_type": "code",
   "execution_count": 85,
   "id": "6f9cce07",
   "metadata": {},
   "outputs": [],
   "source": [
    "# Make predictions on the test data\n",
    "y_pred = model.predict(X_test)"
   ]
  },
  {
   "cell_type": "markdown",
   "id": "70975a8b",
   "metadata": {},
   "source": [
    "**We evaluate the model's performance using Mean Squared Error (`mse`) and R-squared (`r2`) metrics.**\n",
    "\n",
    "**i. Mean Squared Error (MSE):**\n",
    "\n",
    "**Importance:** MSE measures the average squared difference between the predicted values and the actual values in the dataset. It quantifies the model's accuracy by assessing how close its predictions are to the true values.\n",
    "\n",
    "**Interpretation:** A lower MSE indicates better model performance. It penalizes larger prediction errors more heavily, making it sensitive to outliers. MSE is useful when you want to measure the precision of predictions.\n",
    "\n",
    "**ii. R-squared (R2) Score:**\n",
    "\n",
    "**Importance:** R2 measures the proportion of the variance in the target variable that is predictable from the independent variables (features) in the model. It provides insight into how well the model explains the variability in the data.\n",
    "\n",
    "**Interpretation:** R2 score ranges from 0 to 1, where 0 indicates that the model does not explain any variance, and 1 indicates a perfect fit where the model explains all the variance. Higher R2 values suggest a better fit, but it's essential to consider the context of the problem and domain knowledge when interpreting R2."
   ]
  },
  {
   "cell_type": "code",
   "execution_count": 86,
   "id": "fbf0854d",
   "metadata": {},
   "outputs": [],
   "source": [
    "# Evaluate the model performance using metrics\n",
    "mse = mean_squared_error(y_test, y_pred)  # Mean Squared Error\n",
    "r2 = r2_score(y_test, y_pred)  # R-squared"
   ]
  },
  {
   "cell_type": "markdown",
   "id": "19c66b63",
   "metadata": {},
   "source": [
    "**We print the model's performance metrics to assess its accuracy**"
   ]
  },
  {
   "cell_type": "code",
   "execution_count": 87,
   "id": "0f0ebdad",
   "metadata": {},
   "outputs": [
    {
     "name": "stdout",
     "output_type": "stream",
     "text": [
      "Mean Squared Error: 0.01\n",
      "R-squared: 0.96\n"
     ]
    }
   ],
   "source": [
    "# Print the model's performance metrics\n",
    "print(f\"Mean Squared Error: {mse:.2f}\")\n",
    "print(f\"R-squared: {r2:.2f}\")"
   ]
  },
  {
   "cell_type": "markdown",
   "id": "4410e92c",
   "metadata": {},
   "source": [
    "**Finally, we plot the data and the regression line to visualize the model's performance.**"
   ]
  },
  {
   "cell_type": "code",
   "execution_count": 88,
   "id": "3c3e13e7",
   "metadata": {},
   "outputs": [
    {
     "data": {
      "image/png": "[encoded data removed]",
      "text/plain": [
       "<Figure size 432x288 with 1 Axes>"
      ]
     },
     "metadata": {
      "needs_background": "light"
     },
     "output_type": "display_data"
    }
   ],
   "source": [
    "# Plot the data and the regression line\n",
    "plt.scatter(X, y, label='Data')\n",
    "plt.plot(X_test, y_pred, color='red', label='Regression Line')\n",
    "plt.xlabel('Feature')\n",
    "plt.ylabel('Target')\n",
    "plt.legend()\n",
    "plt.show()"
   ]
  },
  {
   "cell_type": "markdown",
   "id": "82a69e70",
   "metadata": {},
   "source": [
    "### Classification   ✅\n",
    "\n",
    "**Logistic Regression**\n",
    "\n",
    "Here, we'll focus on classification and use `Scikit-learn` to implement `logistic regression`, a popular algorithm for binary classification. The code below demonstrates how to implement a basic supervised learning algorithm `(logistic regression)` for classification using `Scikit-learn`.\n",
    "\n",
    "__Credit Risk Modeling using Logistic Regression Example__\n",
    "\n",
    "Credit risk refers to the possibility that a borrower will fail to meet their obligations in accordance with agreed terms. This risk is primarly concerned with the chance that a lender may not receive the owed principal and interest, which leads to an interruption of cash flows and increased cost of collection. So we are interest in finding the probability that a borrower will default and use a threshold to classify the probability as low or high risk.\n",
    "\n",
    "___Industries sensitive to risk:___\n",
    "\n",
    "- __Banking and Finance Services__ - have extensive operations focused on credit risk management.\n",
    "- __Insurance Companies__ - deals with credit risk in their portfolios, particularly in their life insurance and annuities businesses.\n",
    "- __Investment Firms and Asset Managers__ - manages substantial amounts of credit risk through their fixed-income investments.\n",
    "- __Real Estate__ - have to manage the risk of loan defaults.\n",
    "\n",
    "__NB:__ Solving credit risk is the chief responsibility of the Data Science team.\n",
    "\n",
    "Let us assume we have 2 features: `credit_score` and `annual_income`, and the target is `credit_risk` (0 for low risk, 1 for high risk)."
   ]
  },
  {
   "cell_type": "code",
   "execution_count": 4,
   "id": "1688181c",
   "metadata": {},
   "outputs": [],
   "source": [
    "# Import necessary libraries\n",
    "import pandas as pd\n",
    "import numpy as np\n",
    "from sklearn.model_selection import train_test_split\n",
    "from sklearn.preprocessing import StandardScaler\n",
    "from sklearn.linear_model import LogisticRegression\n",
    "from sklearn.metrics import accuracy_score, classification_report"
   ]
  },
  {
   "cell_type": "markdown",
   "id": "e1ccbdda",
   "metadata": {},
   "source": [
    "**We generate a dataset to use as an example**"
   ]
  },
  {
   "cell_type": "code",
   "execution_count": 5,
   "id": "2fb8098f",
   "metadata": {},
   "outputs": [],
   "source": [
    "# Generate Data\n",
    "np.random.seed(42)\n",
    "data_size = 2000\n",
    "credit_scores = np.random.normal(600, 100, data_size)\n",
    "annual_income = np.random.normal(50000, 15000, data_size)\n",
    "credit_risks = (credit_scores < 580) | (annual_income < 30000) # Simplified risk criteria"
   ]
  },
  {
   "cell_type": "code",
   "execution_count": 6,
   "id": "2cc0542d",
   "metadata": {},
   "outputs": [
    {
     "data": {
      "text/html": [
       "<div>\n",
       "<style scoped>\n",
       "    .dataframe tbody tr th:only-of-type {\n",
       "        vertical-align: middle;\n",
       "    }\n",
       "\n",
       "    .dataframe tbody tr th {\n",
       "        vertical-align: top;\n",
       "    }\n",
       "\n",
       "    .dataframe thead th {\n",
       "        text-align: right;\n",
       "    }\n",
       "</style>\n",
       "<table border=\"1\" class=\"dataframe\">\n",
       "  <thead>\n",
       "    <tr style=\"text-align: right;\">\n",
       "      <th></th>\n",
       "      <th>credit_score</th>\n",
       "      <th>annual_income</th>\n",
       "      <th>credit_risk</th>\n",
       "    </tr>\n",
       "  </thead>\n",
       "  <tbody>\n",
       "    <tr>\n",
       "      <th>0</th>\n",
       "      <td>649.671415</td>\n",
       "      <td>39872.325875</td>\n",
       "      <td>0</td>\n",
       "    </tr>\n",
       "    <tr>\n",
       "      <th>1</th>\n",
       "      <td>586.173570</td>\n",
       "      <td>47832.219939</td>\n",
       "      <td>0</td>\n",
       "    </tr>\n",
       "    <tr>\n",
       "      <th>2</th>\n",
       "      <td>664.768854</td>\n",
       "      <td>38113.701185</td>\n",
       "      <td>0</td>\n",
       "    </tr>\n",
       "    <tr>\n",
       "      <th>3</th>\n",
       "      <td>752.302986</td>\n",
       "      <td>45380.577055</td>\n",
       "      <td>0</td>\n",
       "    </tr>\n",
       "    <tr>\n",
       "      <th>4</th>\n",
       "      <td>576.584663</td>\n",
       "      <td>21595.779996</td>\n",
       "      <td>1</td>\n",
       "    </tr>\n",
       "  </tbody>\n",
       "</table>\n",
       "</div>"
      ],
      "text/plain": [
       "   credit_score  annual_income  credit_risk\n",
       "0    649.671415   39872.325875            0\n",
       "1    586.173570   47832.219939            0\n",
       "2    664.768854   38113.701185            0\n",
       "3    752.302986   45380.577055            0\n",
       "4    576.584663   21595.779996            1"
      ]
     },
     "execution_count": 6,
     "metadata": {},
     "output_type": "execute_result"
    }
   ],
   "source": [
    "# Create a DataFrame\n",
    "df = pd.DataFrame({\n",
    "    'credit_score': credit_scores,\n",
    "    'annual_income': annual_income,\n",
    "    'credit_risk': credit_risks.astype(int)\n",
    "})\n",
    "df.head()"
   ]
  },
  {
   "cell_type": "markdown",
   "id": "b6573836",
   "metadata": {},
   "source": [
    "__Preprocess Data__"
   ]
  },
  {
   "cell_type": "code",
   "execution_count": 7,
   "id": "5e263acc",
   "metadata": {},
   "outputs": [],
   "source": [
    "X = df[['credit_score', 'annual_income']]\n",
    "y = df['credit_risk']"
   ]
  },
  {
   "cell_type": "markdown",
   "id": "a2fe0fcf",
   "metadata": {},
   "source": [
    "**Split the dataset into training and testing sets**"
   ]
  },
  {
   "cell_type": "code",
   "execution_count": 8,
   "id": "b3530be1",
   "metadata": {},
   "outputs": [],
   "source": [
    "# Split the dataset into training and testing sets\n",
    "X_train, X_test, y_train, y_test = train_test_split(X, y, test_size=0.3, random_state=42)"
   ]
  },
  {
   "cell_type": "markdown",
   "id": "134a01a1",
   "metadata": {},
   "source": [
    "__Scale the features__"
   ]
  },
  {
   "cell_type": "code",
   "execution_count": 9,
   "id": "f62452e1",
   "metadata": {},
   "outputs": [],
   "source": [
    "scaler = StandardScaler()\n",
    "X_train_scaled = scaler.fit_transform(X_train)\n",
    "X_test_scaled = scaler.transform(X_test)"
   ]
  },
  {
   "cell_type": "markdown",
   "id": "d1a3bbb7",
   "metadata": {},
   "source": [
    "**Train a Model**"
   ]
  },
  {
   "cell_type": "code",
   "execution_count": 10,
   "id": "cdfd4d17",
   "metadata": {},
   "outputs": [
    {
     "data": {
      "text/html": [
       "<style>#sk-container-id-1 {color: black;background-color: white;}#sk-container-id-1 pre{padding: 0;}#sk-container-id-1 div.sk-toggleable {background-color: white;}#sk-container-id-1 label.sk-toggleable__label {cursor: pointer;display: block;width: 100%;margin-bottom: 0;padding: 0.3em;box-sizing: border-box;text-align: center;}#sk-container-id-1 label.sk-toggleable__label-arrow:before {content: \"▸\";float: left;margin-right: 0.25em;color: #696969;}#sk-container-id-1 label.sk-toggleable__label-arrow:hover:before {color: black;}#sk-container-id-1 div.sk-estimator:hover label.sk-toggleable__label-arrow:before {color: black;}#sk-container-id-1 div.sk-toggleable__content {max-height: 0;max-width: 0;overflow: hidden;text-align: left;background-color: #f0f8ff;}#sk-container-id-1 div.sk-toggleable__content pre {margin: 0.2em;color: black;border-radius: 0.25em;background-color: #f0f8ff;}#sk-container-id-1 input.sk-toggleable__control:checked~div.sk-toggleable__content {max-height: 200px;max-width: 100%;overflow: auto;}#sk-container-id-1 input.sk-toggleable__control:checked~label.sk-toggleable__label-arrow:before {content: \"▾\";}#sk-container-id-1 div.sk-estimator input.sk-toggleable__control:checked~label.sk-toggleable__label {background-color: #d4ebff;}#sk-container-id-1 div.sk-label input.sk-toggleable__control:checked~label.sk-toggleable__label {background-color: #d4ebff;}#sk-container-id-1 input.sk-hidden--visually {border: 0;clip: rect(1px 1px 1px 1px);clip: rect(1px, 1px, 1px, 1px);height: 1px;margin: -1px;overflow: hidden;padding: 0;position: absolute;width: 1px;}#sk-container-id-1 div.sk-estimator {font-family: monospace;background-color: #f0f8ff;border: 1px dotted black;border-radius: 0.25em;box-sizing: border-box;margin-bottom: 0.5em;}#sk-container-id-1 div.sk-estimator:hover {background-color: #d4ebff;}#sk-container-id-1 div.sk-parallel-item::after {content: \"\";width: 100%;border-bottom: 1px solid gray;flex-grow: 1;}#sk-container-id-1 div.sk-label:hover label.sk-toggleable__label {background-color: #d4ebff;}#sk-container-id-1 div.sk-serial::before {content: \"\";position: absolute;border-left: 1px solid gray;box-sizing: border-box;top: 0;bottom: 0;left: 50%;z-index: 0;}#sk-container-id-1 div.sk-serial {display: flex;flex-direction: column;align-items: center;background-color: white;padding-right: 0.2em;padding-left: 0.2em;position: relative;}#sk-container-id-1 div.sk-item {position: relative;z-index: 1;}#sk-container-id-1 div.sk-parallel {display: flex;align-items: stretch;justify-content: center;background-color: white;position: relative;}#sk-container-id-1 div.sk-item::before, #sk-container-id-1 div.sk-parallel-item::before {content: \"\";position: absolute;border-left: 1px solid gray;box-sizing: border-box;top: 0;bottom: 0;left: 50%;z-index: -1;}#sk-container-id-1 div.sk-parallel-item {display: flex;flex-direction: column;z-index: 1;position: relative;background-color: white;}#sk-container-id-1 div.sk-parallel-item:first-child::after {align-self: flex-end;width: 50%;}#sk-container-id-1 div.sk-parallel-item:last-child::after {align-self: flex-start;width: 50%;}#sk-container-id-1 div.sk-parallel-item:only-child::after {width: 0;}#sk-container-id-1 div.sk-dashed-wrapped {border: 1px dashed gray;margin: 0 0.4em 0.5em 0.4em;box-sizing: border-box;padding-bottom: 0.4em;background-color: white;}#sk-container-id-1 div.sk-label label {font-family: monospace;font-weight: bold;display: inline-block;line-height: 1.2em;}#sk-container-id-1 div.sk-label-container {text-align: center;}#sk-container-id-1 div.sk-container {/* jupyter's `normalize.less` sets `[hidden] { display: none; }` but bootstrap.min.css set `[hidden] { display: none !important; }` so we also need the `!important` here to be able to override the default hidden behavior on the sphinx rendered scikit-learn.org. See: https://github.com/scikit-learn/scikit-learn/issues/21755 */display: inline-block !important;position: relative;}#sk-container-id-1 div.sk-text-repr-fallback {display: none;}</style><div id=\"sk-container-id-1\" class=\"sk-top-container\"><div class=\"sk-text-repr-fallback\"><pre>LogisticRegression(random_state=42)</pre><b>In a Jupyter environment, please rerun this cell to show the HTML representation or trust the notebook. <br />On GitHub, the HTML representation is unable to render, please try loading this page with nbviewer.org.</b></div><div class=\"sk-container\" hidden><div class=\"sk-item\"><div class=\"sk-estimator sk-toggleable\"><input class=\"sk-toggleable__control sk-hidden--visually\" id=\"sk-estimator-id-1\" type=\"checkbox\" checked><label for=\"sk-estimator-id-1\" class=\"sk-toggleable__label sk-toggleable__label-arrow\">LogisticRegression</label><div class=\"sk-toggleable__content\"><pre>LogisticRegression(random_state=42)</pre></div></div></div></div></div>"
      ],
      "text/plain": [
       "LogisticRegression(random_state=42)"
      ]
     },
     "execution_count": 10,
     "metadata": {},
     "output_type": "execute_result"
    }
   ],
   "source": [
    "# Initialize and train a logistic regression model\n",
    "model = LogisticRegression(random_state=42)\n",
    "model.fit(X_train_scaled, y_train)"
   ]
  },
  {
   "cell_type": "markdown",
   "id": "579122f5",
   "metadata": {},
   "source": [
    "**Make predictions on the test data**"
   ]
  },
  {
   "cell_type": "code",
   "execution_count": 11,
   "id": "cfaf8cc8",
   "metadata": {},
   "outputs": [],
   "source": [
    "# Make predictions on the test set\n",
    "y_pred = model.predict(X_test_scaled)"
   ]
  },
  {
   "cell_type": "markdown",
   "id": "70736936",
   "metadata": {},
   "source": [
    "**Evaluate the Model**"
   ]
  },
  {
   "cell_type": "code",
   "execution_count": 12,
   "id": "c8b933e2",
   "metadata": {},
   "outputs": [
    {
     "name": "stdout",
     "output_type": "stream",
     "text": [
      "Accuracy: 0.8983\n",
      "\n",
      "Classification Report:\n",
      "              precision    recall  f1-score   support\n",
      "\n",
      "           0       0.92      0.91      0.91       345\n",
      "           1       0.88      0.89      0.88       255\n",
      "\n",
      "    accuracy                           0.90       600\n",
      "   macro avg       0.90      0.90      0.90       600\n",
      "weighted avg       0.90      0.90      0.90       600\n",
      "\n"
     ]
    }
   ],
   "source": [
    "# Evaluate the model's performance\n",
    "accuracy = accuracy_score(y_test, y_pred)\n",
    "report = classification_report(y_test, y_pred)\n",
    "\n",
    "print(f\"Accuracy: {accuracy:.4f}\")\n",
    "print()\n",
    "print(f\"Classification Report:\\n{report}\")"
   ]
  },
  {
   "cell_type": "markdown",
   "id": "08ff52cc",
   "metadata": {},
   "source": [
    "### Clustering   ✅🛒🛍🎡👛\n",
    "\n",
    "__How data science helps:__\n",
    "\n",
    "- Businesses analyze customer data to create targeted marketing strategies that cater to specific groups (segments), improving engagement and loyalty.\n",
    "\n",
    "__Types of customer segmentation features:__\n",
    "\n",
    "- Demographic, Geographic, Psychographic, and Behavioural.\n",
    "\n",
    "__Demographic__ - grouping is based on demographic variables such as age, gender, income, occupation, and education level. \n",
    "\n",
    "__Geographic__ - group according to their location, which could be as broad as a country or as specific as a neighborhood. This helps in tailoring marketing campaigns that are culturally and regionally relevant. \n",
    "\n",
    "__Psychographic__ - includes lifestyle, values, attitudes, and personal traits. \n",
    "\n",
    "__Behavioural__ - customers are divided based on their behaviour patterns related to the business, such as purchase history, product usage frequency, brand loyalty, and user status (new, potential, or loyal customers).\n",
    "\n",
    "__What data do I regularly segment on for Email Marketing Segmentation?__ \n",
    "\n",
    "Recency Frequency Monetary (RFM) features, time on list, time since last purchase, spend in last 30 days, products purchased, interests (what they clicking on), events attended, email scoring, clicked on a product page (which ones?), geographic region, number of tags, number of events, and many more.\n",
    "\n",
    "__Algorithms used:__\n",
    "\n",
    "- KMeans - great tool for finding similar customers.\n"
   ]
  },
  {
   "cell_type": "code",
   "execution_count": 98,
   "id": "dfa77fff",
   "metadata": {},
   "outputs": [],
   "source": [
    "# Libraries\n",
    "from sklearn.cluster import KMeans"
   ]
  },
  {
   "cell_type": "code",
   "execution_count": 99,
   "id": "cbea92a3",
   "metadata": {},
   "outputs": [
    {
     "data": {
      "text/html": [
       "<div>\n",
       "<style scoped>\n",
       "    .dataframe tbody tr th:only-of-type {\n",
       "        vertical-align: middle;\n",
       "    }\n",
       "\n",
       "    .dataframe tbody tr th {\n",
       "        vertical-align: top;\n",
       "    }\n",
       "\n",
       "    .dataframe thead th {\n",
       "        text-align: right;\n",
       "    }\n",
       "</style>\n",
       "<table border=\"1\" class=\"dataframe\">\n",
       "  <thead>\n",
       "    <tr style=\"text-align: right;\">\n",
       "      <th></th>\n",
       "      <th>Age</th>\n",
       "      <th>Annual Income (k$)</th>\n",
       "      <th>Spending Score (1-100)</th>\n",
       "    </tr>\n",
       "  </thead>\n",
       "  <tbody>\n",
       "    <tr>\n",
       "      <th>0</th>\n",
       "      <td>18.72</td>\n",
       "      <td>59630.82</td>\n",
       "      <td>38</td>\n",
       "    </tr>\n",
       "    <tr>\n",
       "      <th>1</th>\n",
       "      <td>49.96</td>\n",
       "      <td>20331.68</td>\n",
       "      <td>95</td>\n",
       "    </tr>\n",
       "    <tr>\n",
       "      <th>2</th>\n",
       "      <td>39.24</td>\n",
       "      <td>60683.97</td>\n",
       "      <td>20</td>\n",
       "    </tr>\n",
       "    <tr>\n",
       "      <th>3</th>\n",
       "      <td>12.41</td>\n",
       "      <td>88974.56</td>\n",
       "      <td>59</td>\n",
       "    </tr>\n",
       "    <tr>\n",
       "      <th>4</th>\n",
       "      <td>26.32</td>\n",
       "      <td>49630.61</td>\n",
       "      <td>7</td>\n",
       "    </tr>\n",
       "  </tbody>\n",
       "</table>\n",
       "</div>"
      ],
      "text/plain": [
       "     Age  Annual Income (k$)  Spending Score (1-100)\n",
       "0  18.72            59630.82                      38\n",
       "1  49.96            20331.68                      95\n",
       "2  39.24            60683.97                      20\n",
       "3  12.41            88974.56                      59\n",
       "4  26.32            49630.61                       7"
      ]
     },
     "execution_count": 99,
     "metadata": {},
     "output_type": "execute_result"
    }
   ],
   "source": [
    "# Generate Data\n",
    "np.random.seed(123)\n",
    "\n",
    "data_size = 100\n",
    "age = np.random.normal(35, 15, data_size)\n",
    "annual_income = np.random.normal(50000, 15000, data_size)\n",
    "spending_scores = np.random.randint(1, 100, data_size)\n",
    "\n",
    "df = pd.DataFrame(\n",
    "    data={\n",
    "        'Age': age.round(2),\n",
    "        'Annual Income (k$)': annual_income.round(2),\n",
    "        'Spending Score (1-100)': spending_scores\n",
    "    }\n",
    ")\n",
    "\n",
    "df.head()"
   ]
  },
  {
   "cell_type": "code",
   "execution_count": 100,
   "id": "0b4f05f3",
   "metadata": {},
   "outputs": [],
   "source": [
    "# Using KMeans for clustering\n",
    "kmeans = KMeans(n_clusters=3, init='k-means++', n_init=10, random_state=123)\n",
    "df['Cluster'] = kmeans.fit_predict(df[['Age', 'Annual Income (k$)', 'Spending Score (1-100)']])"
   ]
  },
  {
   "cell_type": "code",
   "execution_count": 112,
   "id": "4ff92c08",
   "metadata": {},
   "outputs": [
    {
     "data": {
      "image/png": "[encoded data removed]",
      "text/plain": [
       "<Figure size 864x576 with 1 Axes>"
      ]
     },
     "metadata": {
      "needs_background": "light"
     },
     "output_type": "display_data"
    }
   ],
   "source": [
    "# Plotting the clusters\n",
    "plt.figure(figsize=(12,8))\n",
    "colors = ['blue', 'green', 'red']\n",
    "for i in range(3):\n",
    "    plt.scatter(\n",
    "        df[df['Cluster'] == i]['Spending Score (1-100)'],\n",
    "        df[df['Cluster'] == i]['Annual Income (k$)'],\n",
    "        label=f'Cluster {i+1}',\n",
    "        c=colors[i]    \n",
    "    )\n",
    "plt.title('Customer Segmentation')\n",
    "plt.xlabel('Age')\n",
    "plt.ylabel('Annual Income (k$)')\n",
    "plt.legend()\n",
    "plt.show()"
   ]
  },
  {
   "cell_type": "code",
   "execution_count": null,
   "id": "08e5482b",
   "metadata": {},
   "outputs": [],
   "source": []
  }
 ],
 "metadata": {
  "kernelspec": {
   "display_name": "Python 3",
   "language": "python",
   "name": "python3"
  },
  "language_info": {
   "codemirror_mode": {
    "name": "ipython",
    "version": 3
   },
   "file_extension": ".py",
   "mimetype": "text/x-python",
   "name": "python",
   "nbconvert_exporter": "python",
   "pygments_lexer": "ipython3",
   "version": "3.12.3"
  }
 },
 "nbformat": 4,
 "nbformat_minor": 5
}
