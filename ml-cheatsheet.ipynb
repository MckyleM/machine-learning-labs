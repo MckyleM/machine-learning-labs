{
 "cells": [
  {
   "cell_type": "markdown",
   "metadata": {},
   "source": [
    "# Data Science Workflow with Python Cheatsheet\n",
    "\n",
    "-----"
   ]
  },
  {
   "cell_type": "markdown",
   "metadata": {},
   "source": [
    "## 1. Import Data\n",
    "\n",
    "- [Pandas](http://pandas.pydata.org/pandas-docs/stable/index.html)[CS](https://github.com/pandas-dev/pandas/raw/master/doc/cheatsheet/Pandas_Cheat_Sheet.pdf)\n",
    "- [sqlite3](https://docs.python.org/3/library/sqlite3.html)\n",
    "- [SQLAlchemy](https://docs.sqlalchemy.org/en/14/dialects/index.html)\n",
    "- [Context Manager](https://book.pythontips.com/en/latest/context_managers.html)\n",
    "- [Glob](https://docs.python.org/3/library/glob.html)\n",
    "--------"
   ]
  },
  {
   "cell_type": "markdown",
   "metadata": {},
   "source": [
    "## 2. Wrangle Data\n",
    "\n",
    "- [NumPy](https://numpy.org/) - data manipulation\n",
    "\n",
    "- [data structures](https://pandas.pydata.org/pandas-docs/stable/user_guide/dsintro.html)\n",
    "- [groupby](https://pandas.pydata.org/pandas-docs/stable/user_guide/groupby.html)\n",
    "- [joins & merge](https://pandas.pydata.org/pandas-docs/stable/user_guide/merging.html)\n",
    "- [reshape (pivot)](https://pandas.pydata.org/pandas-docs/stable/user_guide/reshaping.html)\n",
    "-------- "
   ]
  },
  {
   "cell_type": "markdown",
   "metadata": {},
   "source": [
    "## 3. Transformations\n",
    "\n",
    "- [text](https://pandas.pydata.org/pandas-docs/stable/user_guide/text.html)\n",
    "- [time series](https://pandas.pydata.org/pandas-docs/stable/user_guide/timeseries.html)\n",
    "- [categorical](https://pandas.pydata.org/pandas-docs/stable/user_guide/categorical.html)\n",
    "- [missing values](https://pandas.pydata.org/pandas-docs/stable/user_guide/missing_data.html)\n",
    "------ "
   ]
  },
  {
   "cell_type": "markdown",
   "metadata": {},
   "source": [
    "## 4. Visualization\n",
    "\n",
    "- [matplotlib](https://matplotlib.org/index.html)\n",
    "- [plotly](https://plotly.com/python/)[CS](https://images.plot.ly/plotly-documentation/images/plotly_js_cheat_sheet.pdf)\n",
    "- [plotnine](https://plotnine.readthedocs.io/en/stable/)\n",
    "- [seaborn](http://seaborn.pydata.org/)\n",
    "- [bokeh](http://bokeh.org/)\n",
    "-------"
   ]
  },
  {
   "cell_type": "markdown",
   "metadata": {},
   "source": [
    "## 5. Modeling\n",
    "\n",
    "- [scikit-learn](https://scikit-learn.org/stable/documentation.html)\n",
    "- [statsmodels](https://www.statsmodels.org/devel/)\n",
    "- [TensorFlow](https://www.tensorflow.org/)\n",
    "- [Keras](https://keras.io/)\n",
    "- [Pycaret](https://pycaret.org/)\n",
    "------- "
   ]
  },
  {
   "cell_type": "markdown",
   "metadata": {},
   "source": [
    "## 6. Results Communication\n",
    "\n",
    "- [JupyterLab](https://jupyterlab.readthedocs.io/)\n",
    "- [Dash](https://plotly.com/dash/)\n",
    "- [Streamlit](https://www.streamlit.io/)\n",
    "- [Flask](http://flask.pocoo.org/)\n",
    "- [FastAPI](https://fastapi.tiangolo.com/)\n",
    "------------"
   ]
  },
  {
   "cell_type": "markdown",
   "metadata": {},
   "source": [
    "# Special Topics\n",
    "------"
   ]
  },
  {
   "cell_type": "markdown",
   "metadata": {},
   "source": [
    "## 1. Machine Learning\n",
    "\n",
    "- [Scikit-learn](https://scikit-learn.org/stable/) - ML in python\n",
    "- [H2O](https://docs.h2o.ai/h2o/latest-stable/h2o-py/docs/intro.html) - AutoML & Scalable\n",
    "- [PyCaret](https://pycaret.org/) - Low Code ML\n",
    "- ML Packages: [XGBoost](https://xgboost.readthedocs.io/en/latest/), [CatBoost](https://catboost.ai/), [LightGBM](https://lightgbm.readthedocs.io/en/latest/)\n",
    "-------"
   ]
  },
  {
   "cell_type": "markdown",
   "metadata": {},
   "source": [
    "## 2. Feature Engineering\n",
    "\n",
    "- [Sklearn Data Transformations](https://scikit-learn.org/stable/data_transforms.html)\n",
    "- [category_encoders](http://contrib.scikit-learn.org/category_encoders/) - Categorical Encoding\n",
    "- [imbalanced-learn](https://imbalanced-learn.org/stable/) - Resampling for Imbalanced\n",
    "--------"
   ]
  },
  {
   "cell_type": "markdown",
   "metadata": {},
   "source": [
    "## 3. Text Analysis and NLP\n",
    "\n",
    "- [NLTK](http://www.nltk.org/) - Text Tokenization & Modeling\n",
    "- [spaCy](https://spacy.io/) - NLP using Cython for Speed\n",
    "------- "
   ]
  },
  {
   "cell_type": "markdown",
   "metadata": {},
   "source": [
    "## 4. Recommendation Systems\n",
    "\n",
    "- [Annoy](https://github.com/spotify/annoy) - Approximate Nearest Neighbors\n",
    "- [LightFM](https://making.lyst.com/lightfm/docs/home.html) - Popular recommendation algorithms\n",
    "-------- "
   ]
  },
  {
   "cell_type": "markdown",
   "metadata": {},
   "source": [
    "## 5. Deep Learning\n",
    "\n",
    "- [TensorFlow](https://www.tensorflow.org/) & [Keras](https://keras.io/)\n",
    "- [PyTorch](https://github.com/pytorch/pytorch)\n",
    "- [MXNet](https://github.com/dmlc/mxnet), [Gloun](http://gluon.ai/) & [GluonTS](https://ts.gluon.ai/index.html)\n",
    "--------  "
   ]
  },
  {
   "cell_type": "markdown",
   "metadata": {},
   "source": [
    "## 6. Image Processing & Computer Vision\n",
    "\n",
    "- [OpenCV](https://opencv.org/) - Open Source Computer Vision\n",
    "- [Scikit Image](http://scikit-image.org/) - Image Processing\n",
    "- [Pillow](https://python-pillow.org/) - Python Imaging Library\n",
    "------- "
   ]
  },
  {
   "cell_type": "markdown",
   "metadata": {},
   "source": [
    "## 7. Time Series Forecasting\n",
    "\n",
    "- [statsmodels](https://www.statsmodels.org/devel/user-guide.html#time-series-analysis) - Time Series Analysis\n",
    "- [sktime](https://www.sktime.org/en/latest/) - Scikit-Learn Extenstion for Time Series / pytimetk\n",
    "- [GluonTS](https://ts.gluon.ai/) - MXNet/Gluon DL for Time Series\n",
    "\n",
    "### Time Series Features\n",
    "\n",
    "- [pytimetk](https://business-science.github.io/pytimetk/) - Simplifying Time Series Analysis\n",
    "- [TSFresh](https://tsfresh.readthedocs.io/en/latest/) - Time Series Feature Engineering\n",
    "- [tslearn](https://tslearn.readthedocs.io/en/stable/) - Time Series Features\n",
    "- [Pandas](https://pandas.pydata.org/docs/user_guide/timeseries.html) - Time Series\n",
    "- [Arrow](https://arrow.readthedocs.io/en/latest/) - Human-Friendly Time\n",
    "------- "
   ]
  },
  {
   "cell_type": "markdown",
   "metadata": {},
   "source": [
    "## 8. Exploratory Data Analysis\n",
    "\n",
    "- [skimpy](https://pypi.org/project/skimpy/) - data profiling\n",
    "- [pandas-profiling](https://pandas-profiling.github.io/pandas-profiling/docs/master/rtd/)\n",
    "- [SweetViz](https://github.com/fbdesignpro/sweetviz)\n",
    "- [lux](https://github.com/lux-org/lux)\n",
    "-------- "
   ]
  },
  {
   "cell_type": "markdown",
   "metadata": {},
   "source": [
    "## 9. Web Scrapping\n",
    "\n",
    "- [beautifulsoup](https://www.crummy.com/software/BeautifulSoup/bs4/doc/) - Extract data from HTML\n",
    "- [requests-html](https://github.com/psf/requests-html) - HTML Parsing\n",
    "------- "
   ]
  },
  {
   "cell_type": "markdown",
   "metadata": {},
   "source": [
    "## 10. Web Apps & API\n",
    "\n",
    "- [FastAPI](https://fastapi.tiangolo.com/) - Web Framework for building APIs in python\n",
    "- [Dash](https://plotly.com/dash/) & [Streamlit](https://www.streamlit.io/) - Data Science Web Frameworks\n",
    "- [Flask](https://flask.palletsprojects.com/en/1.1.x/) - Web Development\n",
    "--------"
   ]
  },
  {
   "cell_type": "markdown",
   "metadata": {},
   "source": [
    "## 11. MLOps\n",
    "\n",
    "- [Pycaret MLFlow Integration](https://pycaret.org/mlflow/)\n",
    "- [MLFlow](https://www.mlflow.org/docs/latest/index.html) - ML Lifecycle, Tracking, Deployment\n",
    "- [MetaFlow](https://metaflow.org/) - Scalable AWS Jobs for DS\n",
    "--------"
   ]
  },
  {
   "cell_type": "markdown",
   "metadata": {},
   "source": [
    "## 12. ETL & Automations\n",
    "\n",
    "- [JobLib](https://joblib.readthedocs.io/en/latest/) - Run python jobs\n",
    "- [Airflow](https://github.com/apache/airflow), [Prefect](https://docs.prefect.io/latest/) - Workflow Scheduling & Monitoring\n",
    "- [Ansible](https://www.ansible.com/) - Deployment Automation\n",
    "-------- "
   ]
  },
  {
   "cell_type": "markdown",
   "metadata": {},
   "source": [
    "## 13. Speed & Scale\n",
    "\n",
    "- [datatable](https://datatable.readthedocs.io/en/latest/) - C++ Speed Up\n",
    "- [Dask](https://dask.org/)[(CS)](https://rapids.ai/assets/files/cheatsheet.pdf) - Parallel Pandas & Scikit Learn\n",
    "- [PySpark](https://spark.apache.org/docs/latest/api/python/index.html) - Spark Clusters\n",
    "---------"
   ]
  },
  {
   "cell_type": "markdown",
   "metadata": {},
   "source": [
    "## 14. Libraries coming from R into python\n",
    "\n",
    "- [datatable](https://datatable.readthedocs.io/en/latest/) - data.table port\n",
    "- [plotnine](https://plotnine.readthedocs.io/en/stable/) - ggplot2 port\n",
    "- [suiba](https://siuba.readthedocs.io/en/latest/) & [plydata](https://plydata.readthedocs.io/en/stable/index.html) - dplyr/tidyr ports\n",
    "-------- "
   ]
  },
  {
   "cell_type": "markdown",
   "metadata": {},
   "source": [
    "## 15. Cloud\n",
    "\n",
    "- [Azure](https://docs.microsoft.com/en-us/azure/developer/python/) - Azure python SDK\n",
    "- [Google Cloud](https://github.com/googleapis/google-cloud-python) - GCP python SDK\n",
    "- [boto3](https://github.com/boto/boto3) (AWS) - AWS python SDK\n",
    "---------"
   ]
  },
  {
   "cell_type": "markdown",
   "metadata": {},
   "source": [
    "## 16. Reporting\n",
    "\n",
    "- [python-pptx](https://github.com/scanny/python-pptx) - PowerPoint Documents \n",
    "- [python-docx](https://github.com/scanny/python-docx) - Word Documents\n",
    "- [pdfminer](https://github.com/euske/pdfminer) - Text extraction from PDF\n",
    "- [textract](https://textract.readthedocs.io/en/stable/) - Extract text from any document\n",
    "- [PyPDF2](https://github.com/mstamy2/PyPDF2) - Create PDF documents\n",
    "------- "
   ]
  }
 ],
 "metadata": {
  "kernelspec": {
   "display_name": "mlg-382-class",
   "language": "python",
   "name": "python3"
  },
  "language_info": {
   "codemirror_mode": {
    "name": "ipython",
    "version": 3
   },
   "file_extension": ".py",
   "mimetype": "text/x-python",
   "name": "python",
   "nbconvert_exporter": "python",
   "pygments_lexer": "ipython3",
   "version": "3.12.3"
  }
 },
 "nbformat": 4,
 "nbformat_minor": 2
}
